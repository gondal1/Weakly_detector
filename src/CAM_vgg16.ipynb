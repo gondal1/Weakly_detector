{
 "cells": [
  {
   "cell_type": "code",
   "execution_count": 1,
   "metadata": {
    "collapsed": false
   },
   "outputs": [],
   "source": [
    "import numpy as np\n",
    "import tensorflow as tf\n",
    "import cPickle\n",
    "%matplotlib inline\n",
    "import matplotlib.pyplot as pt\n"
   ]
  },
  {
   "cell_type": "code",
   "execution_count": 2,
   "metadata": {
    "collapsed": true
   },
   "outputs": [],
   "source": [
    "weight_file = '/home/gmd8si/Weakly_detector/vgg16CAM.npy'"
   ]
  },
  {
   "cell_type": "code",
   "execution_count": 5,
   "metadata": {
    "collapsed": false
   },
   "outputs": [
    {
     "name": "stdout",
     "output_type": "stream",
     "text": [
      "CAM_conv (3, 3, 256, 1024) (1024,)\n",
      "CAM_fc (1024, 1000) (1000,)\n",
      "conv1_1 (3, 3, 3, 64) (64,)\n",
      "conv1_2 (3, 3, 64, 64) (64,)\n",
      "conv2_1 (3, 3, 64, 128) (128,)\n",
      "conv2_2 (3, 3, 128, 128) (128,)\n",
      "conv3_1 (3, 3, 128, 256) (256,)\n",
      "conv3_2 (3, 3, 256, 256) (256,)\n",
      "conv3_3 (3, 3, 256, 256) (256,)\n",
      "conv4_1 (3, 3, 256, 512) (512,)\n",
      "conv4_2 (3, 3, 512, 512) (512,)\n",
      "conv4_3 (3, 3, 512, 512) (512,)\n",
      "conv5_1 (3, 3, 512, 512) (512,)\n",
      "conv5_2 (3, 3, 512, 512) (512,)\n",
      "conv5_3 (3, 3, 512, 512) (512,)\n"
     ]
    }
   ],
   "source": [
    "weights = np.load(weight_file)\n",
    "#print (weights.item()).shape\n",
    "#print (((weights.item()['conv2_1'])['weights']).transpose(2,3,1,0)).shape\n",
    "\n",
    "#eights[()]['conv5_1']\n",
    "sort_chk = sorted(weights.item())\n",
    "#sort_chk.transpose (2,3,1,0)\n",
    "for k in sort_chk:\n",
    "    print k, (((weights.item()[k])['weights'])).shape , ((weights.item()[k])['biases']).shape\n",
    "    "
   ]
  },
  {
   "cell_type": "code",
   "execution_count": 5,
   "metadata": {
    "collapsed": false
   },
   "outputs": [
    {
     "name": "stdout",
     "output_type": "stream",
     "text": [
      "\n"
     ]
    }
   ],
   "source": [
    "prof = dict([ (p, [(weights.item()[k])['weights'], (weights.item()[k])['biases']]) for p in sort_chk ])"
   ]
  },
  {
   "cell_type": "code",
   "execution_count": 16,
   "metadata": {
    "collapsed": false
   },
   "outputs": [
    {
     "name": "stdout",
     "output_type": "stream",
     "text": [
      "0 CAM_conv (2,)\n",
      "1 CAM_fc (2,)\n",
      "2 conv1_1 (2,)\n",
      "3 conv1_2 (2,)\n",
      "4 conv2_1 (2,)\n",
      "5 conv2_2 (2,)\n",
      "6 conv3_1 (2,)\n",
      "7 conv3_2 (2,)\n",
      "8 conv3_3 (2,)\n",
      "9 conv4_1 (2,)\n",
      "10 conv4_2 (2,)\n",
      "11 conv4_3 (2,)\n",
      "12 conv5_1 (2,)\n",
      "13 conv5_2 (2,)\n",
      "14 conv5_3 (2,)\n"
     ]
    }
   ],
   "source": [
    "keys = sorted(prof.keys())\n",
    "for i, k in enumerate(keys):\n",
    "    print i, k, np.shape(prof[k])\n",
    "    #sess.run(self.parameters[i].assign(weights[k]))"
   ]
  },
  {
   "cell_type": "code",
   "execution_count": 10,
   "metadata": {
    "collapsed": false
   },
   "outputs": [
    {
     "ename": "TypeError",
     "evalue": "iteration over a 0-d array",
     "output_type": "error",
     "traceback": [
      "\u001b[0;31m---------------------------------------------------------------------------\u001b[0m",
      "\u001b[0;31mTypeError\u001b[0m                                 Traceback (most recent call last)",
      "\u001b[0;32m<ipython-input-10-7ce097c2d89e>\u001b[0m in \u001b[0;36m<module>\u001b[0;34m()\u001b[0m\n\u001b[0;32m----> 1\u001b[0;31m \u001b[0mwe\u001b[0m \u001b[0;34m=\u001b[0m \u001b[0;34m[\u001b[0m\u001b[0mx\u001b[0m \u001b[0;32mfor\u001b[0m \u001b[0mx\u001b[0m \u001b[0;32min\u001b[0m \u001b[0mnp\u001b[0m\u001b[0;34m.\u001b[0m\u001b[0mload\u001b[0m\u001b[0;34m(\u001b[0m\u001b[0mweight_file\u001b[0m\u001b[0;34m)\u001b[0m\u001b[0;34m]\u001b[0m\u001b[0;34m\u001b[0m\u001b[0m\n\u001b[0m\u001b[1;32m      2\u001b[0m \u001b[0mcnt\u001b[0m \u001b[0;34m=\u001b[0m \u001b[0;36m0\u001b[0m\u001b[0;34m\u001b[0m\u001b[0m\n\u001b[1;32m      3\u001b[0m \u001b[0;31m#for p, w in zip(params, weights):\u001b[0m\u001b[0;34m\u001b[0m\u001b[0;34m\u001b[0m\u001b[0m\n\u001b[1;32m      4\u001b[0m \u001b[0;31m#    if p.get_value().shape == w.shape:\u001b[0m\u001b[0;34m\u001b[0m\u001b[0;34m\u001b[0m\u001b[0m\n\u001b[1;32m      5\u001b[0m \u001b[0;31m#        p.set_value(w)\u001b[0m\u001b[0;34m\u001b[0m\u001b[0;34m\u001b[0m\u001b[0m\n",
      "\u001b[0;31mTypeError\u001b[0m: iteration over a 0-d array"
     ]
    }
   ],
   "source": [
    "we = [x for x in np.load(weight_file)]\n",
    "cnt = 0\n",
    "#for p, w in zip(params, weights):\n",
    "#    if p.get_value().shape == w.shape:\n",
    "#        p.set_value(w)\n",
    "#        cnt += 1\n",
    "#print \"Initialized\", cnt, \"params from weights file.\"\n",
    "#for w in weights:\n",
    "#    print (w.shape)\n",
    "#    cnt += 1\n",
    "#print \"Initialized\", cnt, \"params from weights file.\"\n",
    "\n",
    "print we"
   ]
  },
  {
   "cell_type": "code",
   "execution_count": 17,
   "metadata": {
    "collapsed": true
   },
   "outputs": [],
   "source": [
    "weight_file = '/home/gmd8si/Weakly_detector/vgg16_weights.npz'"
   ]
  },
  {
   "cell_type": "code",
   "execution_count": 18,
   "metadata": {
    "collapsed": false
   },
   "outputs": [
    {
     "name": "stdout",
     "output_type": "stream",
     "text": [
      "0 conv1_1_W (3, 3, 3, 64)\n",
      "1 conv1_1_b (64,)\n",
      "2 conv1_2_W (3, 3, 64, 64)\n",
      "3 conv1_2_b (64,)\n",
      "4 conv2_1_W (3, 3, 64, 128)\n",
      "5 conv2_1_b (128,)\n",
      "6 conv2_2_W (3, 3, 128, 128)\n",
      "7 conv2_2_b (128,)\n",
      "8 conv3_1_W (3, 3, 128, 256)\n",
      "9 conv3_1_b (256,)\n",
      "10 conv3_2_W (3, 3, 256, 256)\n",
      "11 conv3_2_b (256,)\n",
      "12 conv3_3_W (3, 3, 256, 256)\n",
      "13 conv3_3_b (256,)\n",
      "14 conv4_1_W (3, 3, 256, 512)\n",
      "15 conv4_1_b (512,)\n",
      "16 conv4_2_W (3, 3, 512, 512)\n",
      "17 conv4_2_b (512,)\n",
      "18 conv4_3_W (3, 3, 512, 512)\n",
      "19 conv4_3_b (512,)\n",
      "20 conv5_1_W (3, 3, 512, 512)\n",
      "21 conv5_1_b (512,)\n",
      "22 conv5_2_W (3, 3, 512, 512)\n",
      "23 conv5_2_b (512,)\n",
      "24 conv5_3_W (3, 3, 512, 512)\n",
      "25 conv5_3_b (512,)\n",
      "26 fc6_W (25088, 4096)\n",
      "27 fc6_b (4096,)\n",
      "28 fc7_W (4096, 4096)\n",
      "29 fc7_b (4096,)\n",
      "30 fc8_W (4096, 1000)\n",
      "31 fc8_b (1000,)\n"
     ]
    }
   ],
   "source": [
    "# these are the ones by TORONTO GUY\n",
    "we = np.load(weight_file)\n",
    "keys= sorted(we.keys())\n",
    "for i, k in enumerate (keys):\n",
    "    print i, k , np.shape(we[k])\n",
    "\n"
   ]
  },
  {
   "cell_type": "code",
   "execution_count": 24,
   "metadata": {
    "collapsed": true
   },
   "outputs": [],
   "source": [
    "# THESE are the ones used in detector CAM\n",
    "or_weight_file = '/home/gmd8si/Weakly_detector/data/caffe_layers_value.pickle'"
   ]
  },
  {
   "cell_type": "code",
   "execution_count": 21,
   "metadata": {
    "collapsed": false
   },
   "outputs": [
    {
     "name": "stdout",
     "output_type": "stream",
     "text": [
      " 0 conv1_1\n",
      "1 conv1_2\n",
      "2 conv2_1\n",
      "3 conv2_2\n",
      "4 conv3_1\n",
      "5 conv3_2\n",
      "6 conv3_3\n",
      "7 conv4_1\n",
      "8 conv4_2\n",
      "9 conv4_3\n",
      "10 conv5_1\n",
      "11 conv5_2\n",
      "12 conv5_3\n",
      "13 drop6\n",
      "14 drop7\n",
      "15 fc6\n",
      "16 fc7\n",
      "17 fc8\n",
      "18 pool1\n",
      "19 pool2\n",
      "20 pool3\n",
      "21 pool4\n",
      "22 pool5\n",
      "23 prob\n",
      "24 relu1_1\n",
      "25 relu1_2\n",
      "26 relu2_1\n",
      "27 relu2_2\n",
      "28 relu3_1\n",
      "29 relu3_2\n",
      "30 relu3_3\n",
      "31 relu4_1\n",
      "32 relu4_2\n",
      "33 relu4_3\n",
      "34 relu5_1\n",
      "35 relu5_2\n",
      "36 relu5_3\n",
      "37 relu6\n",
      "38 relu7\n"
     ]
    }
   ],
   "source": [
    "we = np.load(or_weight_file)\n"
   ]
  },
  {
   "cell_type": "code",
   "execution_count": 32,
   "metadata": {
    "collapsed": false
   },
   "outputs": [
    {
     "name": "stdout",
     "output_type": "stream",
     "text": [
      "0 conv1_1\n"
     ]
    },
    {
     "ename": "ValueError",
     "evalue": "could not broadcast input array from shape (64,3,3,3) into shape (64)",
     "output_type": "error",
     "traceback": [
      "\u001b[0;31m---------------------------------------------------------------------------\u001b[0m",
      "\u001b[0;31mValueError\u001b[0m                                Traceback (most recent call last)",
      "\u001b[0;32m<ipython-input-32-9639f927ce6f>\u001b[0m in \u001b[0;36m<module>\u001b[0;34m()\u001b[0m\n\u001b[1;32m      2\u001b[0m \u001b[0;32mfor\u001b[0m \u001b[0mi\u001b[0m\u001b[0;34m,\u001b[0m \u001b[0mk\u001b[0m \u001b[0;32min\u001b[0m \u001b[0menumerate\u001b[0m \u001b[0;34m(\u001b[0m\u001b[0mkeys\u001b[0m\u001b[0;34m)\u001b[0m\u001b[0;34m:\u001b[0m\u001b[0;34m\u001b[0m\u001b[0m\n\u001b[1;32m      3\u001b[0m     \u001b[0;32mprint\u001b[0m \u001b[0mi\u001b[0m\u001b[0;34m,\u001b[0m \u001b[0mk\u001b[0m \u001b[0;31m#, we[k] #is a list\u001b[0m\u001b[0;34m\u001b[0m\u001b[0m\n\u001b[0;32m----> 4\u001b[0;31m     \u001b[0;32mprint\u001b[0m \u001b[0mnp\u001b[0m\u001b[0;34m.\u001b[0m\u001b[0mshape\u001b[0m\u001b[0;34m(\u001b[0m\u001b[0mwe\u001b[0m\u001b[0;34m[\u001b[0m\u001b[0mk\u001b[0m\u001b[0;34m]\u001b[0m\u001b[0;34m)\u001b[0m\u001b[0;31m#['weights']\u001b[0m\u001b[0;34m\u001b[0m\u001b[0m\n\u001b[0m\u001b[1;32m      5\u001b[0m     \u001b[0;31m#[(weights.item()[k])['weights']\u001b[0m\u001b[0;34m\u001b[0m\u001b[0;34m\u001b[0m\u001b[0m\n",
      "\u001b[0;32m/home/gmd8si/tf/lib/python2.7/site-packages/numpy/core/fromnumeric.pyc\u001b[0m in \u001b[0;36mshape\u001b[0;34m(a)\u001b[0m\n\u001b[1;32m   1613\u001b[0m         \u001b[0mresult\u001b[0m \u001b[0;34m=\u001b[0m \u001b[0ma\u001b[0m\u001b[0;34m.\u001b[0m\u001b[0mshape\u001b[0m\u001b[0;34m\u001b[0m\u001b[0m\n\u001b[1;32m   1614\u001b[0m     \u001b[0;32mexcept\u001b[0m \u001b[0mAttributeError\u001b[0m\u001b[0;34m:\u001b[0m\u001b[0;34m\u001b[0m\u001b[0m\n\u001b[0;32m-> 1615\u001b[0;31m         \u001b[0mresult\u001b[0m \u001b[0;34m=\u001b[0m \u001b[0masarray\u001b[0m\u001b[0;34m(\u001b[0m\u001b[0ma\u001b[0m\u001b[0;34m)\u001b[0m\u001b[0;34m.\u001b[0m\u001b[0mshape\u001b[0m\u001b[0;34m\u001b[0m\u001b[0m\n\u001b[0m\u001b[1;32m   1616\u001b[0m     \u001b[0;32mreturn\u001b[0m \u001b[0mresult\u001b[0m\u001b[0;34m\u001b[0m\u001b[0m\n\u001b[1;32m   1617\u001b[0m \u001b[0;34m\u001b[0m\u001b[0m\n",
      "\u001b[0;32m/home/gmd8si/tf/lib/python2.7/site-packages/numpy/core/numeric.pyc\u001b[0m in \u001b[0;36masarray\u001b[0;34m(a, dtype, order)\u001b[0m\n\u001b[1;32m    480\u001b[0m \u001b[0;34m\u001b[0m\u001b[0m\n\u001b[1;32m    481\u001b[0m     \"\"\"\n\u001b[0;32m--> 482\u001b[0;31m     \u001b[0;32mreturn\u001b[0m \u001b[0marray\u001b[0m\u001b[0;34m(\u001b[0m\u001b[0ma\u001b[0m\u001b[0;34m,\u001b[0m \u001b[0mdtype\u001b[0m\u001b[0;34m,\u001b[0m \u001b[0mcopy\u001b[0m\u001b[0;34m=\u001b[0m\u001b[0mFalse\u001b[0m\u001b[0;34m,\u001b[0m \u001b[0morder\u001b[0m\u001b[0;34m=\u001b[0m\u001b[0morder\u001b[0m\u001b[0;34m)\u001b[0m\u001b[0;34m\u001b[0m\u001b[0m\n\u001b[0m\u001b[1;32m    483\u001b[0m \u001b[0;34m\u001b[0m\u001b[0m\n\u001b[1;32m    484\u001b[0m \u001b[0;32mdef\u001b[0m \u001b[0masanyarray\u001b[0m\u001b[0;34m(\u001b[0m\u001b[0ma\u001b[0m\u001b[0;34m,\u001b[0m \u001b[0mdtype\u001b[0m\u001b[0;34m=\u001b[0m\u001b[0mNone\u001b[0m\u001b[0;34m,\u001b[0m \u001b[0morder\u001b[0m\u001b[0;34m=\u001b[0m\u001b[0mNone\u001b[0m\u001b[0;34m)\u001b[0m\u001b[0;34m:\u001b[0m\u001b[0;34m\u001b[0m\u001b[0m\n",
      "\u001b[0;31mValueError\u001b[0m: could not broadcast input array from shape (64,3,3,3) into shape (64)"
     ]
    }
   ],
   "source": [
    "keys= sorted(we.keys())\n",
    "for i, k in enumerate (keys):\n",
    "    print i, k #, we[k] #is a list\n",
    "    print np.shape(we[k])#['weights']\n",
    "    #[(weights.item()[k])['weights']"
   ]
  },
  {
   "cell_type": "code",
   "execution_count": null,
   "metadata": {
    "collapsed": true
   },
   "outputs": [],
   "source": []
  }
 ],
 "metadata": {
  "kernelspec": {
   "display_name": "Python 2",
   "language": "python",
   "name": "python2"
  },
  "language_info": {
   "codemirror_mode": {
    "name": "ipython",
    "version": 2
   },
   "file_extension": ".py",
   "mimetype": "text/x-python",
   "name": "python",
   "nbconvert_exporter": "python",
   "pygments_lexer": "ipython2",
   "version": "2.7.11"
  }
 },
 "nbformat": 4,
 "nbformat_minor": 0
}
