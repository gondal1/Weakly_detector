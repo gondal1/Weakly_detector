{
 "cells": [
  {
   "cell_type": "code",
   "execution_count": 1,
   "metadata": {
    "collapsed": false
   },
   "outputs": [],
   "source": [
    "#====================================\n",
    "# Author: gmd8si\n",
    "# Date: 16, November, 2016\n",
    "#====================================\n",
    "%matplotlib inline\n",
    "import tensorflow as tf\n",
    "import numpy as np\n",
    "import pandas as pd\n",
    "from detector_dr import Detector\n",
    "from util import load_image, crop_image, augment           # Questionalable since we can use our own loading pipeline\n",
    "import os\n",
    "import matplotlib.pyplot as plt\n",
    "import csv\n",
    "import time\n",
    "#================================================\n",
    "# Setting Hyper-Parameters \n",
    "#================================================\n",
    "\n",
    "#weight_path = '../data/caffe_layers_value.pickle'\n",
    "#model_path = '../models/caltech256/'\n",
    "PRETRAINED_MODEL_PATH='/home/gmd8si/Weakly_detector/src/ckpt_dir/model-customVGGCAM128oldGRAD.ckpt-20' #None \n",
    "#'/home/gmd8si/Weakly_detector/src/ckpt_dir/model.ckpt-0'\n",
    "N_EPOCHS = 10000\n",
    "INIT_LEARNING_RATE = 0.01\n",
    "WEIGHT_DECAY_RATE = 0.0005\n",
    "MOMENTUM = 0.9\n",
    "IMAGE_HEIGHT  = 128    #960\n",
    "IMAGE_WIDTH   = 128    #720\n",
    "NUM_CHANNELS  = 3\n",
    "BATCH_SIZE = 100\n",
    "N_LABELS = 5\n",
    "DROPOUT = 0.50  \n",
    "LOGS_PATH = './tensorflow_logs/custom256'\n",
    "WEIGHT_PATH = None\n",
    "TRAINSET_PATH = '/home/gmd8si/Weakly_detector/data/customKaggle128_train.csv'\n",
    "VALSET_PATH ='/home/gmd8si/Weakly_detector/data/customKaggle128_val.csv'"
   ]
  },
  {
   "cell_type": "markdown",
   "metadata": {},
   "source": [
    "# Reading Data"
   ]
  },
  {
   "cell_type": "code",
   "execution_count": 2,
   "metadata": {
    "collapsed": false
   },
   "outputs": [],
   "source": [
    "#=======================================================================================================\n",
    "# Reading Training data from CSV FILE\n",
    "#=======================================================================================================\n",
    "\n",
    "csv_path = tf.train.string_input_producer([TRAINSET_PATH], shuffle=True)\n",
    "textReader = tf.TextLineReader()\n",
    "_, csv_content = textReader.read(csv_path)\n",
    "im_name, im_label = tf.decode_csv(csv_content, record_defaults=[[\"\"], [1]])\n",
    "\n",
    "im_content = tf.read_file(im_name)\n",
    "train_image = tf.image.decode_jpeg(im_content, channels=3)\n",
    "#train_image = crop_image(train_image)   # Will do it again\n",
    "train_image = tf.cast(train_image, tf.float32) / 255. # could be unnecessary\n",
    "train_image = augment(train_image)\n",
    "size = tf.cast([IMAGE_HEIGHT, IMAGE_WIDTH], tf.int32)\n",
    "train_image = tf.image.resize_images(train_image, size)\n",
    "#label = tf.one_hot(label, 5, 1, 0 )\n",
    "train_label = tf.cast(im_label, tf.int64) # unnecessary\n",
    "train_image_batch, train_label_batch = tf.train.shuffle_batch([train_image, train_label], batch_size=BATCH_SIZE,\n",
    "                                                             capacity = 4000 + 3*BATCH_SIZE, min_after_dequeue = 4000)"
   ]
  },
  {
   "cell_type": "code",
   "execution_count": 3,
   "metadata": {
    "collapsed": false
   },
   "outputs": [],
   "source": [
    "#=======================================================================================================\n",
    "# Reading Validation data from CSV FILE\n",
    "#=======================================================================================================\n",
    "\n",
    "val_csv_path = tf.train.string_input_producer([VALSET_PATH], shuffle=True) # No need to set no. epochs here\n",
    "val_textReader = tf.TextLineReader()\n",
    "_, val_content = val_textReader.read(val_csv_path)\n",
    "val_image, val_label = tf.decode_csv(val_content, record_defaults=[[\"\"], [1]])\n",
    "\n",
    "val_image_content = tf.read_file(val_image)\n",
    "val_image = tf.image.decode_jpeg(val_image_content, channels=3)\n",
    "val_image = tf.cast(val_image, tf.float32) / 255. # could be unnecessary\n",
    "size = tf.cast([IMAGE_HEIGHT, IMAGE_WIDTH], tf.int32)\n",
    "val_image = tf.image.resize_images(val_image, size)\n",
    "val_label = tf.cast(val_label, tf.int64) # unnecessary\n",
    "val_image_batch, val_label_batch = tf.train.batch([val_image, val_label], batch_size=BATCH_SIZE)"
   ]
  },
  {
   "cell_type": "markdown",
   "metadata": {},
   "source": [
    "# Determining datasets length"
   ]
  },
  {
   "cell_type": "code",
   "execution_count": 4,
   "metadata": {
    "collapsed": false
   },
   "outputs": [
    {
     "name": "stdout",
     "output_type": "stream",
     "text": [
      "4584\n",
      "830\n"
     ]
    }
   ],
   "source": [
    "trainfile = open(TRAINSET_PATH, \"rb\")\n",
    "reader = csv.reader(trainfile)\n",
    "trainset = sum(1 for row in reader)\n",
    "print trainset\n",
    "trainfile.close()\n",
    "\n",
    "valfile = open(VALSET_PATH, \"rb\")\n",
    "reader = csv.reader(valfile)\n",
    "valset = sum(1 for row in reader)\n",
    "print valset\n",
    "valfile.close()"
   ]
  },
  {
   "cell_type": "markdown",
   "metadata": {},
   "source": [
    "# Placeholder"
   ]
  },
  {
   "cell_type": "code",
   "execution_count": 5,
   "metadata": {
    "collapsed": true
   },
   "outputs": [],
   "source": [
    "learning_rate = tf.placeholder( tf.float32, [])\n",
    "images_tf = tf.placeholder( tf.float32, [None, IMAGE_HEIGHT, IMAGE_WIDTH, 3], name=\"images\")\n",
    "labels_tf = tf.placeholder( tf.int64, [None], name='labels')  # the dimensions could be [None,N_CLASSES]"
   ]
  },
  {
   "cell_type": "markdown",
   "metadata": {},
   "source": [
    "# Optimizer Properties"
   ]
  },
  {
   "cell_type": "code",
   "execution_count": 6,
   "metadata": {
    "collapsed": true
   },
   "outputs": [],
   "source": [
    "detector = Detector(N_LABELS)"
   ]
  },
  {
   "cell_type": "code",
   "execution_count": 7,
   "metadata": {
    "collapsed": false
   },
   "outputs": [],
   "source": [
    "p1,p2,p3,p4,conv5, conv6, gap, output = detector.inference(images_tf, DROPOUT, train=True)\n",
    "with tf.name_scope('Loss'):\n",
    "    loss_tf = tf.reduce_mean(tf.nn.sparse_softmax_cross_entropy_with_logits( output, labels_tf ), name='loss_tf')\n",
    "    loss_summary = tf.scalar_summary(\"loss\", loss_tf)\n"
   ]
  },
  {
   "cell_type": "code",
   "execution_count": 8,
   "metadata": {
    "collapsed": false
   },
   "outputs": [],
   "source": [
    "#weights_only = filter( lambda x: x.name.endswith('W:0'), tf.trainable_variables() )\n",
    "#weight_decay = tf.reduce_sum(tf.pack([tf.nn.l2_loss(x) for x in weights_only])) * WEIGHT_DECAY_RATE\n",
    "#loss_tf += weight_decay"
   ]
  },
  {
   "cell_type": "code",
   "execution_count": 9,
   "metadata": {
    "collapsed": false
   },
   "outputs": [
    {
     "data": {
      "text/plain": [
       "\"\\noptimizer = tf.train.MomentumOptimizer( learning_rate, MOMENTUM)\\ngrads_and_vars = optimizer.compute_gradients( loss_tf )\\ngrads_and_vars = map(lambda gv: (gv[0], gv[1]) if ('conv6' in gv[1].name or 'GAP' in gv[1].name) else (gv[0]*0.1, gv[1]), \\n                     grads_and_vars)\\ngrads_and_vars = [(tf.clip_by_value(gv[0], -5., 5.), gv[1]) for gv in grads_and_vars]\\ntrain_op = optimizer.apply_gradients( grads_and_vars )\\n\""
      ]
     },
     "execution_count": 9,
     "metadata": {},
     "output_type": "execute_result"
    }
   ],
   "source": [
    "#train_op = tf.train.AdamOptimizer(learning_rate).minimize(loss_tf)\n",
    "#train_op = tf.train.MomentumOptimizer(learning_rate, MOMENTUM).minimize(loss_tf)\n",
    "train_op = tf.train.GradientDescentOptimizer(learning_rate).minimize(loss_tf)\n",
    "'''\n",
    "optimizer = tf.train.MomentumOptimizer( learning_rate, MOMENTUM)\n",
    "grads_and_vars = optimizer.compute_gradients( loss_tf )\n",
    "grads_and_vars = map(lambda gv: (gv[0], gv[1]) if ('conv6' in gv[1].name or 'GAP' in gv[1].name) else (gv[0]*0.1, gv[1]), \n",
    "                     grads_and_vars)\n",
    "grads_and_vars = [(tf.clip_by_value(gv[0], -5., 5.), gv[1]) for gv in grads_and_vars]\n",
    "train_op = optimizer.apply_gradients( grads_and_vars )\n",
    "'''"
   ]
  },
  {
   "cell_type": "code",
   "execution_count": 10,
   "metadata": {
    "collapsed": true
   },
   "outputs": [],
   "source": [
    "# Histogram Summaries\n",
    "# Add histograms for trainable variables.\n",
    "for var in tf.trainable_variables():\n",
    "    tf.histogram_summary(var.op.name, var)\n",
    "\n",
    "# Add histograms for gradients.\n",
    "#for grad, var in grads_and_vars:\n",
    "#    if grad is not None:\n",
    "#        tf.histogram_summary(var.op.name + '/gradients', grad)"
   ]
  },
  {
   "cell_type": "code",
   "execution_count": 11,
   "metadata": {
    "collapsed": false
   },
   "outputs": [],
   "source": [
    "summary_op = tf.merge_all_summaries()"
   ]
  },
  {
   "cell_type": "markdown",
   "metadata": {},
   "source": [
    "# Accuracy"
   ]
  },
  {
   "cell_type": "code",
   "execution_count": 12,
   "metadata": {
    "collapsed": false
   },
   "outputs": [],
   "source": [
    "#label_predictions = output.argmax(axis=1)\n",
    "#accuracy = (label_predictions == labels_tf).sum()\n",
    "# check if we have access to labels_tf in session, like the train.caltech\n",
    "\n",
    "correct_pred = tf.equal(tf.argmax(output, 1), labels_tf)\n",
    "accuracy = tf.reduce_mean(tf.cast(correct_pred, tf.float32))\n"
   ]
  },
  {
   "cell_type": "markdown",
   "metadata": {},
   "source": [
    "# Tensorflow checkpoint saver"
   ]
  },
  {
   "cell_type": "code",
   "execution_count": 13,
   "metadata": {
    "collapsed": true
   },
   "outputs": [],
   "source": [
    "# Saver Operation to save and restore all variables, first create directory\n",
    "ckpt_dir = \"./ckpt_dir\"\n",
    "if not os.path.exists(ckpt_dir):\n",
    "    os.makedirs(ckpt_dir)\n",
    "saver = tf.train.Saver(max_to_keep=50)   #Indicates max number of recent checkpoint files to keep"
   ]
  },
  {
   "cell_type": "code",
   "execution_count": 14,
   "metadata": {
    "collapsed": true
   },
   "outputs": [],
   "source": [
    "if not os.path.exists('./results'):\n",
    "    os.makedirs('./results')\n",
    "f_log = open('./results/customVGGCAM128n.txt', 'w')\n"
   ]
  },
  {
   "cell_type": "markdown",
   "metadata": {},
   "source": [
    "# Training and Validation Sessions"
   ]
  },
  {
   "cell_type": "code",
   "execution_count": null,
   "metadata": {
    "collapsed": false
   },
   "outputs": [
    {
     "name": "stdout",
     "output_type": "stream",
     "text": [
      "Using Pretrained model\n",
      "======================================\n",
      "Epoch 1 Iteration 5\n",
      "Processed 500 / 4584\n",
      "official accuracy:  0.24\n",
      "Training accuracy (correctly classified/num of examples) =  0.22\n",
      "Accuracy per batch: 24\n",
      "Training Loss: 1.59772\n",
      "======================================\n",
      "Epoch 1 Iteration 10\n",
      "Processed 1000 / 4584\n",
      "official accuracy:  0.22\n",
      "Training accuracy (correctly classified/num of examples) =  0.204\n",
      "Accuracy per batch: 22\n",
      "Training Loss: 1.60479\n",
      "======================================\n",
      "Epoch 1 Iteration 15\n",
      "Processed 1500 / 4584\n",
      "official accuracy:  0.34\n",
      "Training accuracy (correctly classified/num of examples) =  0.230666666667\n",
      "Accuracy per batch: 34\n",
      "Training Loss: 1.58865\n",
      "======================================\n",
      "Epoch 1 Iteration 20\n",
      "Processed 2000 / 4584\n",
      "official accuracy:  0.37\n",
      "Training accuracy (correctly classified/num of examples) =  0.252\n",
      "Accuracy per batch: 37\n",
      "Training Loss: 1.57723\n",
      "======================================\n",
      "Epoch 1 Iteration 25\n",
      "Processed 2500 / 4584\n",
      "official accuracy:  0.2\n",
      "Training accuracy (correctly classified/num of examples) =  0.2624\n",
      "Accuracy per batch: 20\n",
      "Training Loss: 1.57737\n"
     ]
    }
   ],
   "source": [
    "with tf.Session() as sess:\n",
    "    \n",
    "    if PRETRAINED_MODEL_PATH:\n",
    "        print \"Using Pretrained model\"\n",
    "        saver.restore(sess, PRETRAINED_MODEL_PATH)\n",
    "    else:    \n",
    "        sess.run(tf.initialize_all_variables())    \n",
    "    #sess.run(tf.initialize_local_variables())\n",
    "    coord = tf.train.Coordinator()\n",
    "    threads = tf.train.start_queue_runners(coord=coord)\n",
    "    loss_list = []\n",
    "    process_start_time= time.time()\n",
    "    summary_writer = tf.train.SummaryWriter(LOGS_PATH, graph=tf.get_default_graph())\n",
    "    steps = 1\n",
    "    count = 1\n",
    "    \n",
    "    for epoch in range(300):    \n",
    "        \n",
    "        train_correct = 0\n",
    "        train_data = 0    \n",
    "        epoch_start_time = time.time()\n",
    "        \n",
    "        for i in range(trainset/BATCH_SIZE +1):\n",
    "            train_imbatch, train_labatch = sess.run([train_image_batch, train_label_batch])\n",
    "            _, loss_val, output_val, off_acc, summary = sess.run([train_op, loss_tf, output, accuracy, summary_op], feed_dict={\n",
    "                    learning_rate: INIT_LEARNING_RATE, images_tf: train_imbatch, labels_tf: train_labatch})\n",
    "                \n",
    "            loss_list.append(loss_val)                              # This must be for visualizing loss curve \n",
    "            \n",
    "            label_predictions = output_val.argmax(axis=1)\n",
    "            acc = (label_predictions == train_labatch).sum()\n",
    "            \n",
    "            train_correct +=acc               #No of correctly classified examples, accumulated per batch\n",
    "            train_data += len(output_val)\n",
    "            \n",
    "            if (steps) % 5 == 0:   # after 5 batches\n",
    "                print \"======================================\"\n",
    "                print \"Epoch\", epoch+1, \"Iteration\", steps\n",
    "                print \"Processed\", train_data, '/', trainset               # (count*BATCH_SIZE)\n",
    "                batch_predictions = output_val.argmax(axis=1)\n",
    "                batch_acc = (batch_predictions == train_labatch).sum()\n",
    "                print 'official accuracy: ', off_acc\n",
    "                print 'Training accuracy (correctly classified/num of examples) = ', (train_correct/float(train_data))\n",
    "                print \"Accuracy per batch:\", batch_acc\n",
    "                #print \"Accuracy Percentage:\", (acc/len(current_labels))*100\n",
    "                print \"Training Loss:\", np.mean(loss_list)\n",
    "                loss_list = []\n",
    "                summary_writer.add_summary(summary, steps)\n",
    "            steps += 1\n",
    "            count += 1\n",
    "        count = 1\n",
    "        n_correct = 0\n",
    "        n_data = 0\n",
    "        \n",
    "        \n",
    "        for i in range (valset/BATCH_SIZE +1):\n",
    "            \n",
    "            val_imbatch, val_labatch = sess.run([val_image_batch, val_label_batch])\n",
    "            output_vals = sess.run(output, feed_dict={images_tf:val_imbatch, labels_tf: val_labatch})\n",
    "            \n",
    "            # check the length of output_vals, and no. of values in n_data, correct the processed value as well\n",
    "            label_predictions = output_vals.argmax(axis=1)\n",
    "            acc = (label_predictions == val_labatch).sum()\n",
    "        \n",
    "            n_correct += acc                  # No of correctly idenified examples in whole val set\n",
    "            n_data += BATCH_SIZE\n",
    "            \n",
    "\n",
    "        acc_all = n_correct / float(n_data)\n",
    "        f_log.write('epoch:'+str(epoch+1)+'\\tacc:'+str(acc_all) + '\\n')\n",
    "        print \"===========**VALIDATION ACCURACY**================\"\n",
    "        print 'epoch:'+str(epoch+1)+'\\tacc:'+str(acc_all) + '\\n'\n",
    "        print 'Time Elapsed for Epoch:'+str(epoch+1)+' is '+str ((time.time() - epoch_start_time)/60.)+' minutes'\n",
    "        INIT_LEARNING_RATE *= 0.99\n",
    "        \n",
    "        if (epoch % 10 == 0):\n",
    "            saver.save(sess, ckpt_dir + \"/model-customVGGCAM128n.ckpt\", global_step=epoch)\n",
    "        "
   ]
  },
  {
   "cell_type": "code",
   "execution_count": null,
   "metadata": {
    "collapsed": true
   },
   "outputs": [],
   "source": []
  }
 ],
 "metadata": {
  "kernelspec": {
   "display_name": "Python 2",
   "language": "python",
   "name": "python2"
  },
  "language_info": {
   "codemirror_mode": {
    "name": "ipython",
    "version": 2
   },
   "file_extension": ".py",
   "mimetype": "text/x-python",
   "name": "python",
   "nbconvert_exporter": "python",
   "pygments_lexer": "ipython2",
   "version": "2.7.11"
  }
 },
 "nbformat": 4,
 "nbformat_minor": 1
}
