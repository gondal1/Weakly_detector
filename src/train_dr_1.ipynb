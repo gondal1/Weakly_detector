{
 "cells": [
  {
   "cell_type": "code",
   "execution_count": 14,
   "metadata": {
    "collapsed": true
   },
   "outputs": [],
   "source": [
    "#====================================\n",
    "# Author: gmd8si\n",
    "# Date: 16, November, 2016\n",
    "#====================================\n",
    "%matplotlib inline\n",
    "import tensorflow as tf\n",
    "import numpy as np\n",
    "import pandas as pd\n",
    "from detector_dr import Detector\n",
    "from util import load_image           # Questionalable since we can use our own loading pipeline\n",
    "import os\n",
    "import matplotlib.pyplot as plt\n",
    "import csv\n",
    "#================================================\n",
    "# Setting Hyper-Parameters \n",
    "#================================================\n",
    "\n",
    "#weight_path = '../data/caffe_layers_value.pickle'\n",
    "#model_path = '../models/caltech256/'\n",
    "PRETRAINED_MODEL_PATH= None #'../models/caltech256/model-0'\n",
    "N_EPOCHS = 10000\n",
    "INIT_LEARNING_RATE = 0.01\n",
    "WEIGHT_DECAY_RATE = 0.0005\n",
    "MOMENTUM = 0.9\n",
    "IMAGE_HEIGHT  = 512    #960\n",
    "IMAGE_WIDTH   = 512    #720\n",
    "NUM_CHANNELS  = 3\n",
    "BATCH_SIZE = 50\n",
    "N_LABELS = 5\n",
    "DROPOUT = 0.50  \n",
    "LOGS_PATH = './tensorflow_logs/new'\n",
    "WEIGHT_PATH = None\n",
    "TRAINSET_PATH = '/home/gmd8si/Weakly_detector/data/kaggle512_train1000.csv'\n",
    "TESTSET_PATH ='/home/gmd8si/Weakly_detector/data/kaggle512_test.csv'"
   ]
  },
  {
   "cell_type": "markdown",
   "metadata": {},
   "source": [
    "# Reading Data"
   ]
  },
  {
   "cell_type": "code",
   "execution_count": 23,
   "metadata": {
    "collapsed": false
   },
   "outputs": [],
   "source": [
    "#=======================================================================================================\n",
    "# Reading Training data from CSV FILE\n",
    "#=======================================================================================================\n",
    "# load csv content, reading labels and filepaths\n",
    "#csv_path = tf.train.string_input_producer(['/home/gmd8si/Weakly_detector/data/kaggle512_train.csv'])\n",
    "#def load_data(data_path, batch_size):\n",
    "csv_path = tf.train.string_input_producer([TRAINSET_PATH], num_epochs=1, shuffle=True, capacity = 60)\n",
    "textReader = tf.TextLineReader()\n",
    "_, csv_content = textReader.read(csv_path)\n",
    "im_name, im_label = tf.decode_csv(csv_content, record_defaults=[[\"\"], [1]])\n",
    "\n",
    "# load images, and convert labels into one_hot encoded form\n",
    "# DO WE NEED HOT-ENCODED VECTORS\n",
    "\n",
    "im_content = tf.read_file(im_name)\n",
    "train_image = tf.image.decode_jpeg(im_content, channels=3)\n",
    "train_image = tf.cast(train_image, tf.float32) / 255. # could be unnecessary\n",
    "#image = image.set_shape([IMAGE_HEIGHT, IMAGE_WIDTH, NUM_CHANNELS])\n",
    "size = tf.cast([512, 512], tf.int32)\n",
    "train_image = tf.image.resize_images(train_image, size)\n",
    "#label = tf.one_hot(label, 5, 1, 0 )\n",
    "train_label = tf.cast(im_label, tf.int64) # unnecessary\n",
    "# Make Batches of images with shuffling\n",
    "#min_after_dequeue = 60                                               # Defines how big a buffer we will randomly sample from -- bigger means better shuffling but slower start up and more memory used\n",
    "#capacity = min_after_dequeue + 3 * BATCH_SIZE                         # Capacity must be larger than min_after_dequeue and the amount larger determines the maximum we will prefetch.\n",
    "train_image_batch, train_label_batch = tf.train.batch([train_image, train_label], batch_size=BATCH_SIZE)"
   ]
  },
  {
   "cell_type": "code",
   "execution_count": 24,
   "metadata": {
    "collapsed": true
   },
   "outputs": [],
   "source": [
    "#=======================================================================================================\n",
    "# Reading Test data from CSV FILE\n",
    "#=======================================================================================================\n",
    "\n",
    "test_csv_path = tf.train.string_input_producer([TESTSET_PATH], shuffle=True) # No need to set no. epochs here\n",
    "test_textReader = tf.TextLineReader()\n",
    "_, test_content = test_textReader.read(test_csv_path)\n",
    "test_image, test_label = tf.decode_csv(test_content, record_defaults=[[\"\"], [1]])\n",
    "\n",
    "\n",
    "test_image_content = tf.read_file(test_image)\n",
    "test_image = tf.image.decode_jpeg(test_image_content, channels=3)\n",
    "test_image = tf.cast(test_image, tf.float32) / 255. # could be unnecessary\n",
    "#image = image.set_shape([IMAGE_HEIGHT, IMAGE_WIDTH, NUM_CHANNELS])\n",
    "size = tf.cast([512, 512], tf.int32)\n",
    "test_image = tf.image.resize_images(test_image, size)\n",
    "#label = tf.one_hot(label, 5, 1, 0 )\n",
    "test_label = tf.cast(test_label, tf.int64) # unnecessary\n",
    "# Make Batches of images with shuffling\n",
    "#min_after_dequeue = 60                                               # Defines how big a buffer we will randomly sample from -- bigger means better shuffling but slower start up and more memory used\n",
    "#capacity = min_after_dequeue + 3 * BATCH_SIZE                         # Capacity must be larger than min_after_dequeue and the amount larger determines the maximum we will prefetch.\n",
    "test_image_batch, test_label_batch = tf.train.batch([test_image, test_label], batch_size=BATCH_SIZE)"
   ]
  },
  {
   "cell_type": "markdown",
   "metadata": {},
   "source": [
    "# Determining datasets length"
   ]
  },
  {
   "cell_type": "code",
   "execution_count": 15,
   "metadata": {
    "collapsed": false
   },
   "outputs": [
    {
     "name": "stdout",
     "output_type": "stream",
     "text": [
      "1002\n",
      "48573\n"
     ]
    }
   ],
   "source": [
    "trainfile = open(TRAINSET_PATH, \"rb\")\n",
    "reader = csv.reader(trainfile)\n",
    "trainset = sum(1 for row in reader)\n",
    "print trainset\n",
    "trainfile.close()\n",
    "\n",
    "testfile = open(TESTSET_PATH, \"rb\")\n",
    "reader = csv.reader(testfile)\n",
    "testset = sum(1 for row in reader)\n",
    "print testset\n",
    "testfile.close()"
   ]
  },
  {
   "cell_type": "markdown",
   "metadata": {},
   "source": [
    "# Placeholder"
   ]
  },
  {
   "cell_type": "code",
   "execution_count": 25,
   "metadata": {
    "collapsed": true
   },
   "outputs": [],
   "source": [
    "learning_rate = tf.placeholder( tf.float32, [])\n",
    "images_tf = tf.placeholder( tf.float32, [None, 512, 512, 3], name=\"images\")\n",
    "labels_tf = tf.placeholder( tf.int64, [None], name='labels')  # the dimensions could be [None,N_CLASSES]"
   ]
  },
  {
   "cell_type": "markdown",
   "metadata": {},
   "source": [
    "# Optimizer Properties"
   ]
  },
  {
   "cell_type": "code",
   "execution_count": 5,
   "metadata": {
    "collapsed": true
   },
   "outputs": [],
   "source": [
    "detector = Detector(N_LABELS)"
   ]
  },
  {
   "cell_type": "code",
   "execution_count": 6,
   "metadata": {
    "collapsed": false
   },
   "outputs": [],
   "source": [
    "p1,p2,p3,p4,conv5, conv6, gap, output = detector.inference(images_tf)\n",
    "loss_tf = tf.reduce_mean(tf.nn.sparse_softmax_cross_entropy_with_logits( output, labels_tf ))"
   ]
  },
  {
   "cell_type": "code",
   "execution_count": 7,
   "metadata": {
    "collapsed": true
   },
   "outputs": [],
   "source": [
    "weights_only = filter( lambda x: x.name.endswith('W:0'), tf.trainable_variables() )\n",
    "weight_decay = tf.reduce_sum(tf.pack([tf.nn.l2_loss(x) for x in weights_only])) * WEIGHT_DECAY_RATE\n",
    "loss_tf += weight_decay"
   ]
  },
  {
   "cell_type": "code",
   "execution_count": 11,
   "metadata": {
    "collapsed": true
   },
   "outputs": [],
   "source": [
    "optimizer = tf.train.MomentumOptimizer( learning_rate, MOMENTUM)\n",
    "grads_and_vars = optimizer.compute_gradients( loss_tf )\n",
    "grads_and_vars = map(lambda gv: (gv[0], gv[1]) if ('conv6' in gv[1].name or 'GAP' in gv[1].name) else (gv[0]*0.1, gv[1]), \n",
    "                     grads_and_vars)\n",
    "#grads_and_vars = [(tf.clip_by_value(gv[0], -5., 5.), gv[1]) for gv in grads_and_vars]\n",
    "train_op = optimizer.apply_gradients( grads_and_vars )"
   ]
  },
  {
   "cell_type": "markdown",
   "metadata": {},
   "source": [
    "# Accuracy"
   ]
  },
  {
   "cell_type": "code",
   "execution_count": 26,
   "metadata": {
    "collapsed": false
   },
   "outputs": [],
   "source": [
    "#label_predictions = output.argmax(axis=1)\n",
    "#accuracy = (label_predictions == labels_tf).sum()\n",
    "# check if we have access to labels_tf in session, like the train.caltech\n",
    "\n",
    "correct_pred = tf.equal(tf.argmax(output, 1), labels_tf)\n",
    "accuracy = tf.reduce_mean(tf.cast(correct_pred, tf.float32))"
   ]
  },
  {
   "cell_type": "markdown",
   "metadata": {},
   "source": [
    "# Tensorflow checkpoint saver"
   ]
  },
  {
   "cell_type": "code",
   "execution_count": 16,
   "metadata": {
    "collapsed": true
   },
   "outputs": [],
   "source": [
    "# Saver Operation to save and restore all variables, first create directory\n",
    "ckpt_dir = \"./ckpt_dir\"\n",
    "if not os.path.exists(ckpt_dir):\n",
    "    os.makedirs(ckpt_dir)\n",
    "saver = tf.train.Saver(max_to_keep=50)   #Indicates max number of recent checkpoint files to keep"
   ]
  },
  {
   "cell_type": "code",
   "execution_count": 17,
   "metadata": {
    "collapsed": true
   },
   "outputs": [],
   "source": [
    "if PRETRAINED_MODEL_PATH:\n",
    "    print \"Pretrained\"\n",
    "    saver.restore(sess, PRETRAINED_MODEL_PATH)"
   ]
  },
  {
   "cell_type": "code",
   "execution_count": 18,
   "metadata": {
    "collapsed": true
   },
   "outputs": [],
   "source": [
    "if not os.path.exists('./results'):\n",
    "    os.makedirs('./results')\n",
    "f_log = open('./results/DR_1_vggCAM.txt', 'w')\n",
    "\n",
    "iterations = 0\n",
    "loss_list = []"
   ]
  },
  {
   "cell_type": "markdown",
   "metadata": {},
   "source": [
    "# Training and Testing Sessions"
   ]
  },
  {
   "cell_type": "code",
   "execution_count": 27,
   "metadata": {
    "collapsed": false
   },
   "outputs": [
    {
     "ename": "InvalidArgumentError",
     "evalue": "You must feed a value for placeholder tensor 'Placeholder' with dtype float\n\t [[Node: Placeholder = Placeholder[dtype=DT_FLOAT, shape=[], _device=\"/job:localhost/replica:0/task:0/gpu:0\"]()]]\n\t [[Node: Mean_3/_129 = _Recv[client_terminated=false, recv_device=\"/job:localhost/replica:0/task:0/cpu:0\", send_device=\"/job:localhost/replica:0/task:0/gpu:0\", send_device_incarnation=1, tensor_name=\"edge_1014_Mean_3\", tensor_type=DT_FLOAT, _device=\"/job:localhost/replica:0/task:0/cpu:0\"]()]]\n\nCaused by op u'Placeholder', defined at:\n  File \"/opt/dl/anaconda/lib/python2.7/runpy.py\", line 162, in _run_module_as_main\n    \"__main__\", fname, loader, pkg_name)\n  File \"/opt/dl/anaconda/lib/python2.7/runpy.py\", line 72, in _run_code\n    exec code in run_globals\n  File \"/home/gmd8si/tf/lib/python2.7/site-packages/ipykernel/__main__.py\", line 3, in <module>\n    app.launch_new_instance()\n  File \"/home/gmd8si/tf/lib/python2.7/site-packages/traitlets/config/application.py\", line 658, in launch_instance\n    app.start()\n  File \"/home/gmd8si/tf/lib/python2.7/site-packages/ipykernel/kernelapp.py\", line 474, in start\n    ioloop.IOLoop.instance().start()\n  File \"/home/gmd8si/tf/lib/python2.7/site-packages/zmq/eventloop/ioloop.py\", line 177, in start\n    super(ZMQIOLoop, self).start()\n  File \"/home/gmd8si/tf/lib/python2.7/site-packages/tornado/ioloop.py\", line 887, in start\n    handler_func(fd_obj, events)\n  File \"/home/gmd8si/tf/lib/python2.7/site-packages/tornado/stack_context.py\", line 275, in null_wrapper\n    return fn(*args, **kwargs)\n  File \"/home/gmd8si/tf/lib/python2.7/site-packages/zmq/eventloop/zmqstream.py\", line 440, in _handle_events\n    self._handle_recv()\n  File \"/home/gmd8si/tf/lib/python2.7/site-packages/zmq/eventloop/zmqstream.py\", line 472, in _handle_recv\n    self._run_callback(callback, msg)\n  File \"/home/gmd8si/tf/lib/python2.7/site-packages/zmq/eventloop/zmqstream.py\", line 414, in _run_callback\n    callback(*args, **kwargs)\n  File \"/home/gmd8si/tf/lib/python2.7/site-packages/tornado/stack_context.py\", line 275, in null_wrapper\n    return fn(*args, **kwargs)\n  File \"/home/gmd8si/tf/lib/python2.7/site-packages/ipykernel/kernelbase.py\", line 276, in dispatcher\n    return self.dispatch_shell(stream, msg)\n  File \"/home/gmd8si/tf/lib/python2.7/site-packages/ipykernel/kernelbase.py\", line 228, in dispatch_shell\n    handler(stream, idents, msg)\n  File \"/home/gmd8si/tf/lib/python2.7/site-packages/ipykernel/kernelbase.py\", line 390, in execute_request\n    user_expressions, allow_stdin)\n  File \"/home/gmd8si/tf/lib/python2.7/site-packages/ipykernel/ipkernel.py\", line 196, in do_execute\n    res = shell.run_cell(code, store_history=store_history, silent=silent)\n  File \"/home/gmd8si/tf/lib/python2.7/site-packages/ipykernel/zmqshell.py\", line 501, in run_cell\n    return super(ZMQInteractiveShell, self).run_cell(*args, **kwargs)\n  File \"/home/gmd8si/tf/lib/python2.7/site-packages/IPython/core/interactiveshell.py\", line 2717, in run_cell\n    interactivity=interactivity, compiler=compiler, result=result)\n  File \"/home/gmd8si/tf/lib/python2.7/site-packages/IPython/core/interactiveshell.py\", line 2821, in run_ast_nodes\n    if self.run_code(code, result):\n  File \"/home/gmd8si/tf/lib/python2.7/site-packages/IPython/core/interactiveshell.py\", line 2881, in run_code\n    exec(code_obj, self.user_global_ns, self.user_ns)\n  File \"<ipython-input-4-79e0ff9502a3>\", line 1, in <module>\n    learning_rate = tf.placeholder( tf.float32, [])\n  File \"/home/gmd8si/tf/lib/python2.7/site-packages/tensorflow/python/ops/array_ops.py\", line 1332, in placeholder\n    name=name)\n  File \"/home/gmd8si/tf/lib/python2.7/site-packages/tensorflow/python/ops/gen_array_ops.py\", line 1748, in _placeholder\n    name=name)\n  File \"/home/gmd8si/tf/lib/python2.7/site-packages/tensorflow/python/framework/op_def_library.py\", line 749, in apply_op\n    op_def=op_def)\n  File \"/home/gmd8si/tf/lib/python2.7/site-packages/tensorflow/python/framework/ops.py\", line 2380, in create_op\n    original_op=self._default_original_op, op_def=op_def)\n  File \"/home/gmd8si/tf/lib/python2.7/site-packages/tensorflow/python/framework/ops.py\", line 1298, in __init__\n    self._traceback = _extract_stack()\n\nInvalidArgumentError (see above for traceback): You must feed a value for placeholder tensor 'Placeholder' with dtype float\n\t [[Node: Placeholder = Placeholder[dtype=DT_FLOAT, shape=[], _device=\"/job:localhost/replica:0/task:0/gpu:0\"]()]]\n\t [[Node: Mean_3/_129 = _Recv[client_terminated=false, recv_device=\"/job:localhost/replica:0/task:0/cpu:0\", send_device=\"/job:localhost/replica:0/task:0/gpu:0\", send_device_incarnation=1, tensor_name=\"edge_1014_Mean_3\", tensor_type=DT_FLOAT, _device=\"/job:localhost/replica:0/task:0/cpu:0\"]()]]\n",
     "output_type": "error",
     "traceback": [
      "\u001b[0;31m---------------------------------------------------------------------------\u001b[0m",
      "\u001b[0;31mInvalidArgumentError\u001b[0m                      Traceback (most recent call last)",
      "\u001b[0;32m<ipython-input-27-58d7dd494b37>\u001b[0m in \u001b[0;36m<module>\u001b[0;34m()\u001b[0m\n\u001b[1;32m     11\u001b[0m                 \u001b[0mtrain_imbatch\u001b[0m\u001b[0;34m,\u001b[0m \u001b[0mtrain_labatch\u001b[0m \u001b[0;34m=\u001b[0m \u001b[0msess\u001b[0m\u001b[0;34m.\u001b[0m\u001b[0mrun\u001b[0m\u001b[0;34m(\u001b[0m\u001b[0;34m[\u001b[0m\u001b[0mtrain_image_batch\u001b[0m\u001b[0;34m,\u001b[0m \u001b[0mtrain_label_batch\u001b[0m\u001b[0;34m]\u001b[0m\u001b[0;34m)\u001b[0m\u001b[0;34m\u001b[0m\u001b[0m\n\u001b[1;32m     12\u001b[0m                 _, loss_val, output_val, acc = sess.run([train_op, loss_tf, output, accuracy], feed_dict={\n\u001b[0;32m---> 13\u001b[0;31m                         learning_rate: INIT_LEARNING_RATE, images_tf: train_imbatch, labels_tf: train_labatch})\n\u001b[0m\u001b[1;32m     14\u001b[0m \u001b[0;34m\u001b[0m\u001b[0m\n\u001b[1;32m     15\u001b[0m                 \u001b[0mloss_list\u001b[0m\u001b[0;34m.\u001b[0m\u001b[0mappend\u001b[0m\u001b[0;34m(\u001b[0m\u001b[0mloss_val\u001b[0m\u001b[0;34m)\u001b[0m                              \u001b[0;31m# This must be for visualizing loss curve\u001b[0m\u001b[0;34m\u001b[0m\u001b[0m\n",
      "\u001b[0;32m/home/gmd8si/tf/lib/python2.7/site-packages/tensorflow/python/client/session.pyc\u001b[0m in \u001b[0;36mrun\u001b[0;34m(self, fetches, feed_dict, options, run_metadata)\u001b[0m\n\u001b[1;32m    715\u001b[0m     \u001b[0;32mtry\u001b[0m\u001b[0;34m:\u001b[0m\u001b[0;34m\u001b[0m\u001b[0m\n\u001b[1;32m    716\u001b[0m       result = self._run(None, fetches, feed_dict, options_ptr,\n\u001b[0;32m--> 717\u001b[0;31m                          run_metadata_ptr)\n\u001b[0m\u001b[1;32m    718\u001b[0m       \u001b[0;32mif\u001b[0m \u001b[0mrun_metadata\u001b[0m\u001b[0;34m:\u001b[0m\u001b[0;34m\u001b[0m\u001b[0m\n\u001b[1;32m    719\u001b[0m         \u001b[0mproto_data\u001b[0m \u001b[0;34m=\u001b[0m \u001b[0mtf_session\u001b[0m\u001b[0;34m.\u001b[0m\u001b[0mTF_GetBuffer\u001b[0m\u001b[0;34m(\u001b[0m\u001b[0mrun_metadata_ptr\u001b[0m\u001b[0;34m)\u001b[0m\u001b[0;34m\u001b[0m\u001b[0m\n",
      "\u001b[0;32m/home/gmd8si/tf/lib/python2.7/site-packages/tensorflow/python/client/session.pyc\u001b[0m in \u001b[0;36m_run\u001b[0;34m(self, handle, fetches, feed_dict, options, run_metadata)\u001b[0m\n\u001b[1;32m    913\u001b[0m     \u001b[0;32mif\u001b[0m \u001b[0mfinal_fetches\u001b[0m \u001b[0;32mor\u001b[0m \u001b[0mfinal_targets\u001b[0m\u001b[0;34m:\u001b[0m\u001b[0;34m\u001b[0m\u001b[0m\n\u001b[1;32m    914\u001b[0m       results = self._do_run(handle, final_targets, final_fetches,\n\u001b[0;32m--> 915\u001b[0;31m                              feed_dict_string, options, run_metadata)\n\u001b[0m\u001b[1;32m    916\u001b[0m     \u001b[0;32melse\u001b[0m\u001b[0;34m:\u001b[0m\u001b[0;34m\u001b[0m\u001b[0m\n\u001b[1;32m    917\u001b[0m       \u001b[0mresults\u001b[0m \u001b[0;34m=\u001b[0m \u001b[0;34m[\u001b[0m\u001b[0;34m]\u001b[0m\u001b[0;34m\u001b[0m\u001b[0m\n",
      "\u001b[0;32m/home/gmd8si/tf/lib/python2.7/site-packages/tensorflow/python/client/session.pyc\u001b[0m in \u001b[0;36m_do_run\u001b[0;34m(self, handle, target_list, fetch_list, feed_dict, options, run_metadata)\u001b[0m\n\u001b[1;32m    963\u001b[0m     \u001b[0;32mif\u001b[0m \u001b[0mhandle\u001b[0m \u001b[0;32mis\u001b[0m \u001b[0mNone\u001b[0m\u001b[0;34m:\u001b[0m\u001b[0;34m\u001b[0m\u001b[0m\n\u001b[1;32m    964\u001b[0m       return self._do_call(_run_fn, self._session, feed_dict, fetch_list,\n\u001b[0;32m--> 965\u001b[0;31m                            target_list, options, run_metadata)\n\u001b[0m\u001b[1;32m    966\u001b[0m     \u001b[0;32melse\u001b[0m\u001b[0;34m:\u001b[0m\u001b[0;34m\u001b[0m\u001b[0m\n\u001b[1;32m    967\u001b[0m       return self._do_call(_prun_fn, self._session, handle, feed_dict,\n",
      "\u001b[0;32m/home/gmd8si/tf/lib/python2.7/site-packages/tensorflow/python/client/session.pyc\u001b[0m in \u001b[0;36m_do_call\u001b[0;34m(self, fn, *args)\u001b[0m\n\u001b[1;32m    983\u001b[0m         \u001b[0;32mexcept\u001b[0m \u001b[0mKeyError\u001b[0m\u001b[0;34m:\u001b[0m\u001b[0;34m\u001b[0m\u001b[0m\n\u001b[1;32m    984\u001b[0m           \u001b[0;32mpass\u001b[0m\u001b[0;34m\u001b[0m\u001b[0m\n\u001b[0;32m--> 985\u001b[0;31m       \u001b[0;32mraise\u001b[0m \u001b[0mtype\u001b[0m\u001b[0;34m(\u001b[0m\u001b[0me\u001b[0m\u001b[0;34m)\u001b[0m\u001b[0;34m(\u001b[0m\u001b[0mnode_def\u001b[0m\u001b[0;34m,\u001b[0m \u001b[0mop\u001b[0m\u001b[0;34m,\u001b[0m \u001b[0mmessage\u001b[0m\u001b[0;34m)\u001b[0m\u001b[0;34m\u001b[0m\u001b[0m\n\u001b[0m\u001b[1;32m    986\u001b[0m \u001b[0;34m\u001b[0m\u001b[0m\n\u001b[1;32m    987\u001b[0m   \u001b[0;32mdef\u001b[0m \u001b[0m_extend_graph\u001b[0m\u001b[0;34m(\u001b[0m\u001b[0mself\u001b[0m\u001b[0;34m)\u001b[0m\u001b[0;34m:\u001b[0m\u001b[0;34m\u001b[0m\u001b[0m\n",
      "\u001b[0;31mInvalidArgumentError\u001b[0m: You must feed a value for placeholder tensor 'Placeholder' with dtype float\n\t [[Node: Placeholder = Placeholder[dtype=DT_FLOAT, shape=[], _device=\"/job:localhost/replica:0/task:0/gpu:0\"]()]]\n\t [[Node: Mean_3/_129 = _Recv[client_terminated=false, recv_device=\"/job:localhost/replica:0/task:0/cpu:0\", send_device=\"/job:localhost/replica:0/task:0/gpu:0\", send_device_incarnation=1, tensor_name=\"edge_1014_Mean_3\", tensor_type=DT_FLOAT, _device=\"/job:localhost/replica:0/task:0/cpu:0\"]()]]\n\nCaused by op u'Placeholder', defined at:\n  File \"/opt/dl/anaconda/lib/python2.7/runpy.py\", line 162, in _run_module_as_main\n    \"__main__\", fname, loader, pkg_name)\n  File \"/opt/dl/anaconda/lib/python2.7/runpy.py\", line 72, in _run_code\n    exec code in run_globals\n  File \"/home/gmd8si/tf/lib/python2.7/site-packages/ipykernel/__main__.py\", line 3, in <module>\n    app.launch_new_instance()\n  File \"/home/gmd8si/tf/lib/python2.7/site-packages/traitlets/config/application.py\", line 658, in launch_instance\n    app.start()\n  File \"/home/gmd8si/tf/lib/python2.7/site-packages/ipykernel/kernelapp.py\", line 474, in start\n    ioloop.IOLoop.instance().start()\n  File \"/home/gmd8si/tf/lib/python2.7/site-packages/zmq/eventloop/ioloop.py\", line 177, in start\n    super(ZMQIOLoop, self).start()\n  File \"/home/gmd8si/tf/lib/python2.7/site-packages/tornado/ioloop.py\", line 887, in start\n    handler_func(fd_obj, events)\n  File \"/home/gmd8si/tf/lib/python2.7/site-packages/tornado/stack_context.py\", line 275, in null_wrapper\n    return fn(*args, **kwargs)\n  File \"/home/gmd8si/tf/lib/python2.7/site-packages/zmq/eventloop/zmqstream.py\", line 440, in _handle_events\n    self._handle_recv()\n  File \"/home/gmd8si/tf/lib/python2.7/site-packages/zmq/eventloop/zmqstream.py\", line 472, in _handle_recv\n    self._run_callback(callback, msg)\n  File \"/home/gmd8si/tf/lib/python2.7/site-packages/zmq/eventloop/zmqstream.py\", line 414, in _run_callback\n    callback(*args, **kwargs)\n  File \"/home/gmd8si/tf/lib/python2.7/site-packages/tornado/stack_context.py\", line 275, in null_wrapper\n    return fn(*args, **kwargs)\n  File \"/home/gmd8si/tf/lib/python2.7/site-packages/ipykernel/kernelbase.py\", line 276, in dispatcher\n    return self.dispatch_shell(stream, msg)\n  File \"/home/gmd8si/tf/lib/python2.7/site-packages/ipykernel/kernelbase.py\", line 228, in dispatch_shell\n    handler(stream, idents, msg)\n  File \"/home/gmd8si/tf/lib/python2.7/site-packages/ipykernel/kernelbase.py\", line 390, in execute_request\n    user_expressions, allow_stdin)\n  File \"/home/gmd8si/tf/lib/python2.7/site-packages/ipykernel/ipkernel.py\", line 196, in do_execute\n    res = shell.run_cell(code, store_history=store_history, silent=silent)\n  File \"/home/gmd8si/tf/lib/python2.7/site-packages/ipykernel/zmqshell.py\", line 501, in run_cell\n    return super(ZMQInteractiveShell, self).run_cell(*args, **kwargs)\n  File \"/home/gmd8si/tf/lib/python2.7/site-packages/IPython/core/interactiveshell.py\", line 2717, in run_cell\n    interactivity=interactivity, compiler=compiler, result=result)\n  File \"/home/gmd8si/tf/lib/python2.7/site-packages/IPython/core/interactiveshell.py\", line 2821, in run_ast_nodes\n    if self.run_code(code, result):\n  File \"/home/gmd8si/tf/lib/python2.7/site-packages/IPython/core/interactiveshell.py\", line 2881, in run_code\n    exec(code_obj, self.user_global_ns, self.user_ns)\n  File \"<ipython-input-4-79e0ff9502a3>\", line 1, in <module>\n    learning_rate = tf.placeholder( tf.float32, [])\n  File \"/home/gmd8si/tf/lib/python2.7/site-packages/tensorflow/python/ops/array_ops.py\", line 1332, in placeholder\n    name=name)\n  File \"/home/gmd8si/tf/lib/python2.7/site-packages/tensorflow/python/ops/gen_array_ops.py\", line 1748, in _placeholder\n    name=name)\n  File \"/home/gmd8si/tf/lib/python2.7/site-packages/tensorflow/python/framework/op_def_library.py\", line 749, in apply_op\n    op_def=op_def)\n  File \"/home/gmd8si/tf/lib/python2.7/site-packages/tensorflow/python/framework/ops.py\", line 2380, in create_op\n    original_op=self._default_original_op, op_def=op_def)\n  File \"/home/gmd8si/tf/lib/python2.7/site-packages/tensorflow/python/framework/ops.py\", line 1298, in __init__\n    self._traceback = _extract_stack()\n\nInvalidArgumentError (see above for traceback): You must feed a value for placeholder tensor 'Placeholder' with dtype float\n\t [[Node: Placeholder = Placeholder[dtype=DT_FLOAT, shape=[], _device=\"/job:localhost/replica:0/task:0/gpu:0\"]()]]\n\t [[Node: Mean_3/_129 = _Recv[client_terminated=false, recv_device=\"/job:localhost/replica:0/task:0/cpu:0\", send_device=\"/job:localhost/replica:0/task:0/gpu:0\", send_device_incarnation=1, tensor_name=\"edge_1014_Mean_3\", tensor_type=DT_FLOAT, _device=\"/job:localhost/replica:0/task:0/cpu:0\"]()]]\n"
     ]
    }
   ],
   "source": [
    "with tf.Session() as sess:\n",
    "    sess.run(tf.initialize_all_variables())    \n",
    "    sess.run(tf.initialize_local_variables())\n",
    "    coord = tf.train.Coordinator()\n",
    "    threads = tf.train.start_queue_runners(coord=coord)\n",
    "    for epoch in range(2):\n",
    "    \n",
    "        try: \n",
    "            #while not coord.should_stop():\n",
    "            for i in range (25): # This loop should be bigger than 1 epoch size\n",
    "                train_imbatch, train_labatch = sess.run([train_image_batch, train_label_batch])\n",
    "                _, loss_val, output_val, acc = sess.run([train_op, loss_tf, output, accuracy], feed_dict={\n",
    "                        learning_rate: INIT_LEARNING_RATE, images_tf: train_imbatch, labels_tf: train_labatch})\n",
    "                \n",
    "                loss_list.append(loss_val)                              # This must be for visualizing loss curve \n",
    "                iterations += 1\n",
    "                print iterations\n",
    "                if iterations % 5 == 0:   # after 5 batches\n",
    "                    print \"======================================\"\n",
    "                    print \"Epoch\", epoch, \"Iteration\", iterations\n",
    "                    print \"Processed\", (iterations*BATCH_SIZE), '/', trainset\n",
    "\n",
    "                    #label_predictions = output_val.argmax(axis=1)\n",
    "                    #acc = (label_predictions == current_labels).sum()\n",
    "\n",
    "                    print \"Accuracy:\", acc  #, '/', len(current_labels)\n",
    "                    #print \"Accuracy Percentage:\", (acc/len(current_labels))*100\n",
    "                    print \"Training Loss:\", np.mean(loss_list)\n",
    "                    print \"\\n\"\n",
    "                    loss_list = []                \n",
    "                \n",
    "        except tf.errors.OutOfRangeError:\n",
    "            print ('Epoch Reached: ', epoch)\n",
    "            \n",
    "        n_correct = 0\n",
    "        n_data = 0\n",
    "        \n",
    "        test_imbatch, test_labatch = sess.run([test_image_batch, test_label_batch])\n",
    "        output_vals, acc = sess.run([output, accuracy], feed_dict={images_tf:test_imbatch, labels_tf: test_labatch})\n",
    "\n",
    "        #label_predictions = output_vals.argmax(axis=1)\n",
    "        #acc = (label_predictions == current_labels).sum()\n",
    "\n",
    "        n_correct += acc\n",
    "        n_data += epoch*BATCH_SIZE\n",
    "\n",
    "        acc_all = n_correct / float(n_data)\n",
    "        f_log.write('epoch:'+str(epoch)+'\\tacc:'+str(acc_all) + '\\n')\n",
    "        print \"$$$$$$$$$$$$$$$$$$$$$$$$$$$$$$$$$$$$$$$$$$$$$$$\"\n",
    "        print 'epoch:'+str(epoch)+'\\tacc:'+str(acc_all) + '\\n'\n",
    "        print \"$$$$$$$$$$$$$$$$$$$$$$$$$$$$$$$$$$$$$$$$$$$$$$$\"\n",
    "        \n",
    "        saver.save( sess, os.path.join( model_path, 'model'), global_step=epoch)\n",
    "        INIT_LEARNING_RATE *= 0.99"
   ]
  }
 ],
 "metadata": {
  "kernelspec": {
   "display_name": "Python 2",
   "language": "python",
   "name": "python2"
  },
  "language_info": {
   "codemirror_mode": {
    "name": "ipython",
    "version": 2
   },
   "file_extension": ".py",
   "mimetype": "text/x-python",
   "name": "python",
   "nbconvert_exporter": "python",
   "pygments_lexer": "ipython2",
   "version": "2.7.11"
  }
 },
 "nbformat": 4,
 "nbformat_minor": 1
}
