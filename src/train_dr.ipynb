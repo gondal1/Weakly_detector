{
 "cells": [
  {
   "cell_type": "code",
   "execution_count": 1,
   "metadata": {
    "collapsed": false
   },
   "outputs": [],
   "source": [
    "#====================================\n",
    "# Author: gmd8si\n",
    "# Date: 16, November, 2016\n",
    "#====================================\n",
    "%matplotlib inline\n",
    "import tensorflow as tf\n",
    "import numpy as np\n",
    "import pandas as pd\n",
    "\n",
    "from detector_dr import Detector\n",
    "from util import load_image           # Questionalable since we can use our own loading pipeline\n",
    "import os\n",
    "import matplotlib.pyplot as plt\n",
    "\n",
    "#================================================\n",
    "# Setting Hyper-Parameters \n",
    "#================================================\n",
    "\n",
    "#weight_path = '../data/caffe_layers_value.pickle'\n",
    "#model_path = '../models/caltech256/'\n",
    "PRETRAINED_MODEL_PATH= None #'../models/caltech256/model-0'\n",
    "N_EPOCHS = 10000\n",
    "INIT_LEARNING_RATE = 0.01\n",
    "WEIGHT_DECAY_RATE = 0.0005\n",
    "MOMENTUM = 0.9\n",
    "IMAGE_HEIGHT  = 512    #960\n",
    "IMAGE_WIDTH   = 512    #720\n",
    "NUM_CHANNELS  = 3\n",
    "BATCH_SIZE = 50\n",
    "N_LABELS = 5\n",
    "DROPOUT = 0.50  \n",
    "LOGS_PATH = './tensorflow_logs/new'\n",
    "WEIGHT_PATH = None\n",
    "TRAINSET_PATH = '/home/gmd8si/Weakly_detector/data/kaggle512_train1000.csv'\n",
    "TESTSET_PATH ='/home/gmd8si/Weakly_detector/data/kaggle512_test.csv'"
   ]
  },
  {
   "cell_type": "markdown",
   "metadata": {},
   "source": [
    "# Reading Data"
   ]
  },
  {
   "cell_type": "code",
   "execution_count": 2,
   "metadata": {
    "collapsed": false,
    "scrolled": false
   },
   "outputs": [],
   "source": [
    "#=======================================================================================================\n",
    "# Reading Training data from CSV FILE\n",
    "#=======================================================================================================\n",
    "# load csv content, reading labels and filepaths\n",
    "#csv_path = tf.train.string_input_producer(['/home/gmd8si/Weakly_detector/data/kaggle512_train.csv'])\n",
    "#def load_data(data_path, batch_size):\n",
    "csv_path = tf.train.string_input_producer([TRAINSET_PATH])\n",
    "textReader = tf.TextLineReader()\n",
    "_, csv_content = textReader.read(csv_path)\n",
    "im_name, im_label = tf.decode_csv(csv_content, record_defaults=[[\"\"], [1]])\n",
    "\n",
    "\n",
    "\n",
    "# load images, and convert labels into one_hot encoded form\n",
    "# DO WE NEED HOT-ENCODED VECTORS\n",
    "\n",
    "im_content = tf.read_file(im_name)\n",
    "image = tf.image.decode_jpeg(im_content, channels=3)\n",
    "image = tf.cast(image, tf.float32) / 255. # could be unnecessary\n",
    "#image = image.set_shape([IMAGE_HEIGHT, IMAGE_WIDTH, NUM_CHANNELS])\n",
    "size = tf.cast([512, 512], tf.int32)\n",
    "image = tf.image.resize_images(image, size)\n",
    "#label = tf.one_hot(label, 5, 1, 0 )\n",
    "label = tf.cast(im_label, tf.int32) # unnecessary\n",
    "# Make Batches of images with shuffling\n",
    "min_after_dequeue = 60                                               # Defines how big a buffer we will randomly sample from -- bigger means better shuffling but slower start up and more memory used\n",
    "capacity = min_after_dequeue + 3 * BATCH_SIZE                         # Capacity must be larger than min_after_dequeue and the amount larger determines the maximum we will prefetch.\n",
    "train_image_batch, train_label_batch = tf.train.batch(\n",
    "    [image, label], batch_size=BATCH_SIZE)#, capacity=capacity,min_after_dequeue=min_after_dequeue) # shuffle_batch , capacity=capacity,min_after_dequeue=10\n",
    "\n"
   ]
  },
  {
   "cell_type": "code",
   "execution_count": 26,
   "metadata": {
    "collapsed": true
   },
   "outputs": [],
   "source": [
    "#=======================================================================================================\n",
    "# Reading Training data from CSV FILE\n",
    "#=======================================================================================================\n",
    "# load csv content, reading labels and filepaths\n",
    "#csv_path = tf.train.string_input_producer(['/home/gmd8si/Weakly_detector/data/kaggle512_train.csv'])\n",
    "#def load_data(data_path, batch_size):\n",
    "csv_path = tf.train.string_input_producer([TRAINSET_PATH], num_epochs=10000, shuffle=True, capacity = 60)\n",
    "textReader = tf.TextLineReader()\n",
    "_, csv_content = textReader.read(csv_path)\n",
    "im_name, im_label = tf.decode_csv(csv_content, record_defaults=[[\"\"], [1]])\n",
    "\n",
    "# load images, and convert labels into one_hot encoded form\n",
    "# DO WE NEED HOT-ENCODED VECTORS\n",
    "\n",
    "im_content = tf.read_file(im_name)\n",
    "image = tf.image.decode_jpeg(im_content, channels=3)\n",
    "image = tf.cast(image, tf.float32) / 255. # could be unnecessary\n",
    "#image = image.set_shape([IMAGE_HEIGHT, IMAGE_WIDTH, NUM_CHANNELS])\n",
    "size = tf.cast([512, 512], tf.int32)\n",
    "image = tf.image.resize_images(image, size)\n",
    "#label = tf.one_hot(label, 5, 1, 0 )\n",
    "label = tf.cast(im_label, tf.int32) # unnecessary\n",
    "# Make Batches of images with shuffling\n",
    "min_after_dequeue = 60                                               # Defines how big a buffer we will randomly sample from -- bigger means better shuffling but slower start up and more memory used\n",
    "capacity = min_after_dequeue + 3 * BATCH_SIZE                         # Capacity must be larger than min_after_dequeue and the amount larger determines the maximum we will prefetch.\n",
    "train_image_batch, train_label_batch = tf.train.batch([image, label], batch_size=BATCH_SIZE)"
   ]
  },
  {
   "cell_type": "code",
   "execution_count": 27,
   "metadata": {
    "collapsed": false
   },
   "outputs": [
    {
     "name": "stdout",
     "output_type": "stream",
     "text": [
      "1\n",
      "(50, 512, 512, 3)\n",
      "2\n",
      "(50, 512, 512, 3)\n",
      "3\n",
      "(50, 512, 512, 3)\n",
      "4\n",
      "(50, 512, 512, 3)\n",
      "5\n",
      "(50, 512, 512, 3)\n",
      "6\n",
      "(50, 512, 512, 3)\n",
      "7\n",
      "(50, 512, 512, 3)\n",
      "8\n",
      "(50, 512, 512, 3)\n",
      "9\n",
      "(50, 512, 512, 3)\n",
      "10\n",
      "(50, 512, 512, 3)\n",
      "11\n",
      "(50, 512, 512, 3)\n",
      "12\n",
      "(50, 512, 512, 3)\n",
      "13\n",
      "(50, 512, 512, 3)\n",
      "14\n",
      "(50, 512, 512, 3)\n",
      "15\n",
      "(50, 512, 512, 3)\n",
      "16\n",
      "(50, 512, 512, 3)\n",
      "17\n",
      "(50, 512, 512, 3)\n",
      "18\n",
      "(50, 512, 512, 3)\n",
      "19\n",
      "(50, 512, 512, 3)\n",
      "20\n",
      "(50, 512, 512, 3)\n",
      "21\n",
      "Epoch Reached, Done Training\n"
     ]
    }
   ],
   "source": [
    "with tf.Session() as sess:\n",
    "    # Initializing all variables is necessary as for num_epoches, the ftn string_input_producer creates an internal\n",
    "    # variable to track the current epoch index, and therefore it needs to be initialized before.\n",
    "    sess.run(tf.initialize_all_variables())    \n",
    "    sess.run(tf.initialize_local_variables())\n",
    "    coord = tf.train.Coordinator()\n",
    "    threads = tf.train.start_queue_runners(coord=coord)\n",
    "    try: \n",
    "        #while not coord.should_stop():\n",
    "        for i in range (25):\n",
    "            \n",
    "            #print(sess.run(im_name))\n",
    "            print i+1\n",
    "            s = sess.run(train_image_batch)\n",
    "            print s.shape\n",
    "    except tf.errors.OutOfRangeError:\n",
    "        print ('Epoch Reached, Done Training')\n",
    "    "
   ]
  },
  {
   "cell_type": "code",
   "execution_count": 17,
   "metadata": {
    "collapsed": false
   },
   "outputs": [
    {
     "name": "stdout",
     "output_type": "stream",
     "text": [
      "1002\n"
     ]
    },
    {
     "ename": "ValueError",
     "evalue": "Shapes (1002, 2) and () are not compatible",
     "output_type": "error",
     "traceback": [
      "\u001b[0;31m---------------------------------------------------------------------------\u001b[0m",
      "\u001b[0;31mValueError\u001b[0m                                Traceback (most recent call last)",
      "\u001b[0;32m<ipython-input-17-b88fd3a7a610>\u001b[0m in \u001b[0;36m<module>\u001b[0;34m()\u001b[0m\n\u001b[1;32m     12\u001b[0m \u001b[0;31m#    labels.append(int(row[1]))\u001b[0m\u001b[0;34m\u001b[0m\u001b[0;34m\u001b[0m\u001b[0m\n\u001b[1;32m     13\u001b[0m \u001b[0;32mprint\u001b[0m \u001b[0mlen\u001b[0m\u001b[0;34m(\u001b[0m\u001b[0mfnames\u001b[0m\u001b[0;34m)\u001b[0m\u001b[0;34m\u001b[0m\u001b[0m\n\u001b[0;32m---> 14\u001b[0;31m \u001b[0mcsv_path\u001b[0m \u001b[0;34m=\u001b[0m \u001b[0mtf\u001b[0m\u001b[0;34m.\u001b[0m\u001b[0mtrain\u001b[0m\u001b[0;34m.\u001b[0m\u001b[0mstring_input_producer\u001b[0m\u001b[0;34m(\u001b[0m\u001b[0;34m[\u001b[0m\u001b[0mfnames\u001b[0m\u001b[0;34m]\u001b[0m\u001b[0;34m)\u001b[0m\u001b[0;34m\u001b[0m\u001b[0m\n\u001b[0m\u001b[1;32m     15\u001b[0m \u001b[0;32mdel\u001b[0m \u001b[0mfnames\u001b[0m\u001b[0;34m[\u001b[0m\u001b[0;34m:\u001b[0m\u001b[0;34m]\u001b[0m\u001b[0;34m\u001b[0m\u001b[0m\n\u001b[1;32m     16\u001b[0m \u001b[0;34m\u001b[0m\u001b[0m\n",
      "\u001b[0;32m/home/gmd8si/tf/lib/python2.7/site-packages/tensorflow/python/training/input.pyc\u001b[0m in \u001b[0;36mstring_input_producer\u001b[0;34m(string_tensor, num_epochs, shuffle, seed, capacity, shared_name, name)\u001b[0m\n\u001b[1;32m    194\u001b[0m         \u001b[0mshared_name\u001b[0m\u001b[0;34m=\u001b[0m\u001b[0mshared_name\u001b[0m\u001b[0;34m,\u001b[0m\u001b[0;34m\u001b[0m\u001b[0m\n\u001b[1;32m    195\u001b[0m         \u001b[0mname\u001b[0m\u001b[0;34m=\u001b[0m\u001b[0mname\u001b[0m\u001b[0;34m,\u001b[0m\u001b[0;34m\u001b[0m\u001b[0m\n\u001b[0;32m--> 196\u001b[0;31m         summary_name=\"fraction_of_%d_full\" % capacity)\n\u001b[0m\u001b[1;32m    197\u001b[0m \u001b[0;34m\u001b[0m\u001b[0m\n\u001b[1;32m    198\u001b[0m \u001b[0;34m\u001b[0m\u001b[0m\n",
      "\u001b[0;32m/home/gmd8si/tf/lib/python2.7/site-packages/tensorflow/python/training/input.pyc\u001b[0m in \u001b[0;36minput_producer\u001b[0;34m(input_tensor, element_shape, num_epochs, shuffle, seed, capacity, shared_name, summary_name, name)\u001b[0m\n\u001b[1;32m    124\u001b[0m   \u001b[0;32mwith\u001b[0m \u001b[0mops\u001b[0m\u001b[0;34m.\u001b[0m\u001b[0mname_scope\u001b[0m\u001b[0;34m(\u001b[0m\u001b[0mname\u001b[0m\u001b[0;34m,\u001b[0m \u001b[0;34m\"input_producer\"\u001b[0m\u001b[0;34m,\u001b[0m \u001b[0;34m[\u001b[0m\u001b[0minput_tensor\u001b[0m\u001b[0;34m]\u001b[0m\u001b[0;34m)\u001b[0m\u001b[0;34m:\u001b[0m\u001b[0;34m\u001b[0m\u001b[0m\n\u001b[1;32m    125\u001b[0m     \u001b[0minput_tensor\u001b[0m \u001b[0;34m=\u001b[0m \u001b[0mops\u001b[0m\u001b[0;34m.\u001b[0m\u001b[0mconvert_to_tensor\u001b[0m\u001b[0;34m(\u001b[0m\u001b[0minput_tensor\u001b[0m\u001b[0;34m,\u001b[0m \u001b[0mname\u001b[0m\u001b[0;34m=\u001b[0m\u001b[0;34m\"input_tensor\"\u001b[0m\u001b[0;34m)\u001b[0m\u001b[0;34m\u001b[0m\u001b[0m\n\u001b[0;32m--> 126\u001b[0;31m     \u001b[0melement_shape\u001b[0m \u001b[0;34m=\u001b[0m \u001b[0minput_tensor\u001b[0m\u001b[0;34m.\u001b[0m\u001b[0mget_shape\u001b[0m\u001b[0;34m(\u001b[0m\u001b[0;34m)\u001b[0m\u001b[0;34m[\u001b[0m\u001b[0;36m1\u001b[0m\u001b[0;34m:\u001b[0m\u001b[0;34m]\u001b[0m\u001b[0;34m.\u001b[0m\u001b[0mmerge_with\u001b[0m\u001b[0;34m(\u001b[0m\u001b[0melement_shape\u001b[0m\u001b[0;34m)\u001b[0m\u001b[0;34m\u001b[0m\u001b[0m\n\u001b[0m\u001b[1;32m    127\u001b[0m     \u001b[0;32mif\u001b[0m \u001b[0;32mnot\u001b[0m \u001b[0melement_shape\u001b[0m\u001b[0;34m.\u001b[0m\u001b[0mis_fully_defined\u001b[0m\u001b[0;34m(\u001b[0m\u001b[0;34m)\u001b[0m\u001b[0;34m:\u001b[0m\u001b[0;34m\u001b[0m\u001b[0m\n\u001b[1;32m    128\u001b[0m       raise ValueError(\"Either `input_tensor` must have a fully defined shape \"\n",
      "\u001b[0;32m/home/gmd8si/tf/lib/python2.7/site-packages/tensorflow/python/framework/tensor_shape.pyc\u001b[0m in \u001b[0;36mmerge_with\u001b[0;34m(self, other)\u001b[0m\n\u001b[1;32m    577\u001b[0m       \u001b[0;32mexcept\u001b[0m \u001b[0mValueError\u001b[0m\u001b[0;34m:\u001b[0m\u001b[0;34m\u001b[0m\u001b[0m\n\u001b[1;32m    578\u001b[0m         raise ValueError(\"Shapes %s and %s are not compatible\" %\n\u001b[0;32m--> 579\u001b[0;31m                          (self, other))\n\u001b[0m\u001b[1;32m    580\u001b[0m \u001b[0;34m\u001b[0m\u001b[0m\n\u001b[1;32m    581\u001b[0m   \u001b[0;32mdef\u001b[0m \u001b[0mconcatenate\u001b[0m\u001b[0;34m(\u001b[0m\u001b[0mself\u001b[0m\u001b[0;34m,\u001b[0m \u001b[0mother\u001b[0m\u001b[0;34m)\u001b[0m\u001b[0;34m:\u001b[0m\u001b[0;34m\u001b[0m\u001b[0m\n",
      "\u001b[0;31mValueError\u001b[0m: Shapes (1002, 2) and () are not compatible"
     ]
    }
   ],
   "source": [
    "import csv\n",
    "\n",
    "TRAINSET_PATH = '/home/gmd8si/Weakly_detector/data/kaggle512_train1000.csv'\n",
    "csvfile = open(TRAINSET_PATH, \"rb\")\n",
    "reader = csv.reader(csvfile)\n",
    "#row_count = sum(1 for row in reader)\n",
    "#print row_count\n",
    "\n",
    "#fnames, labels = [], []  \n",
    "for row in reader:\n",
    "    fnames.append(row)\n",
    "#    labels.append(int(row[1]))\n",
    "print len(fnames)\n",
    "csv_path = tf.train.string_input_producer([fnames])\n",
    "del fnames[:]\n",
    "\n",
    "#csvfile.close()\n",
    "    \n",
    "    #if num_labels == 0:\n",
    "        #return fnames\n",
    "    #else:\n",
    "        #return fnames, labels\n",
    "    #return fnames, labels\n",
    "#print len(fnames)\n",
    "'''\n",
    "\n",
    "fileO = csv.reader(TRAINSET_PATH)\n",
    "data = list(fileO)\n",
    "rc = len(data)\n",
    "#row_count = sum(1 for row in fileO)\n",
    "print rc\n",
    "\n",
    "for c in enumerate(fileO,0):\n",
    "    print c\n",
    "\n",
    "'''"
   ]
  },
  {
   "cell_type": "code",
   "execution_count": 16,
   "metadata": {
    "collapsed": false
   },
   "outputs": [
    {
     "name": "stdout",
     "output_type": "stream",
     "text": [
      "1\n",
      "(50,)\n",
      "2\n",
      "(50,)\n",
      "3\n",
      "(50,)\n",
      "4\n",
      "(50,)\n",
      "5\n",
      "(50,)\n",
      "6\n",
      "(50,)\n",
      "7\n",
      "(50,)\n",
      "8\n",
      "(50,)\n",
      "9\n",
      "(50,)\n",
      "10\n",
      "(50,)\n",
      "11\n",
      "(50,)\n",
      "12\n",
      "(50,)\n",
      "13\n",
      "(50,)\n",
      "14\n",
      "(50,)\n",
      "15\n",
      "(50,)\n",
      "16\n",
      "(50,)\n",
      "17\n",
      "(50,)\n",
      "18\n",
      "(50,)\n",
      "19\n",
      "(50,)\n",
      "20\n",
      "(50,)\n",
      "21\n"
     ]
    },
    {
     "ename": "KeyboardInterrupt",
     "evalue": "",
     "output_type": "error",
     "traceback": [
      "\u001b[0;31m---------------------------------------------------------------------------\u001b[0m",
      "\u001b[0;31mKeyboardInterrupt\u001b[0m                         Traceback (most recent call last)",
      "\u001b[0;32m<ipython-input-16-c4529b939578>\u001b[0m in \u001b[0;36m<module>\u001b[0;34m()\u001b[0m\n\u001b[1;32m      8\u001b[0m             \u001b[0mcount\u001b[0m \u001b[0;34m=\u001b[0m \u001b[0mcount\u001b[0m \u001b[0;34m+\u001b[0m \u001b[0;36m1\u001b[0m\u001b[0;34m\u001b[0m\u001b[0m\n\u001b[1;32m      9\u001b[0m             \u001b[0;32mprint\u001b[0m \u001b[0mcount\u001b[0m\u001b[0;34m\u001b[0m\u001b[0m\n\u001b[0;32m---> 10\u001b[0;31m             \u001b[0mbatch_x\u001b[0m\u001b[0;34m,\u001b[0m \u001b[0mbatch_y\u001b[0m \u001b[0;34m=\u001b[0m \u001b[0msess\u001b[0m\u001b[0;34m.\u001b[0m\u001b[0mrun\u001b[0m\u001b[0;34m(\u001b[0m\u001b[0;34m[\u001b[0m\u001b[0mtrain_image_batch\u001b[0m\u001b[0;34m,\u001b[0m \u001b[0mtrain_label_batch\u001b[0m\u001b[0;34m]\u001b[0m\u001b[0;34m)\u001b[0m\u001b[0;34m\u001b[0m\u001b[0m\n\u001b[0m\u001b[1;32m     11\u001b[0m             \u001b[0;32mprint\u001b[0m \u001b[0mbatch_y\u001b[0m\u001b[0;34m.\u001b[0m\u001b[0mshape\u001b[0m\u001b[0;34m\u001b[0m\u001b[0m\n\u001b[1;32m     12\u001b[0m     \u001b[0;31m#print a.shape\u001b[0m\u001b[0;34m\u001b[0m\u001b[0;34m\u001b[0m\u001b[0m\n",
      "\u001b[0;32m/home/gmd8si/tf/lib/python2.7/site-packages/tensorflow/python/client/session.pyc\u001b[0m in \u001b[0;36mrun\u001b[0;34m(self, fetches, feed_dict, options, run_metadata)\u001b[0m\n\u001b[1;32m    715\u001b[0m     \u001b[0;32mtry\u001b[0m\u001b[0;34m:\u001b[0m\u001b[0;34m\u001b[0m\u001b[0m\n\u001b[1;32m    716\u001b[0m       result = self._run(None, fetches, feed_dict, options_ptr,\n\u001b[0;32m--> 717\u001b[0;31m                          run_metadata_ptr)\n\u001b[0m\u001b[1;32m    718\u001b[0m       \u001b[0;32mif\u001b[0m \u001b[0mrun_metadata\u001b[0m\u001b[0;34m:\u001b[0m\u001b[0;34m\u001b[0m\u001b[0m\n\u001b[1;32m    719\u001b[0m         \u001b[0mproto_data\u001b[0m \u001b[0;34m=\u001b[0m \u001b[0mtf_session\u001b[0m\u001b[0;34m.\u001b[0m\u001b[0mTF_GetBuffer\u001b[0m\u001b[0;34m(\u001b[0m\u001b[0mrun_metadata_ptr\u001b[0m\u001b[0;34m)\u001b[0m\u001b[0;34m\u001b[0m\u001b[0m\n",
      "\u001b[0;32m/home/gmd8si/tf/lib/python2.7/site-packages/tensorflow/python/client/session.pyc\u001b[0m in \u001b[0;36m_run\u001b[0;34m(self, handle, fetches, feed_dict, options, run_metadata)\u001b[0m\n\u001b[1;32m    913\u001b[0m     \u001b[0;32mif\u001b[0m \u001b[0mfinal_fetches\u001b[0m \u001b[0;32mor\u001b[0m \u001b[0mfinal_targets\u001b[0m\u001b[0;34m:\u001b[0m\u001b[0;34m\u001b[0m\u001b[0m\n\u001b[1;32m    914\u001b[0m       results = self._do_run(handle, final_targets, final_fetches,\n\u001b[0;32m--> 915\u001b[0;31m                              feed_dict_string, options, run_metadata)\n\u001b[0m\u001b[1;32m    916\u001b[0m     \u001b[0;32melse\u001b[0m\u001b[0;34m:\u001b[0m\u001b[0;34m\u001b[0m\u001b[0m\n\u001b[1;32m    917\u001b[0m       \u001b[0mresults\u001b[0m \u001b[0;34m=\u001b[0m \u001b[0;34m[\u001b[0m\u001b[0;34m]\u001b[0m\u001b[0;34m\u001b[0m\u001b[0m\n",
      "\u001b[0;32m/home/gmd8si/tf/lib/python2.7/site-packages/tensorflow/python/client/session.pyc\u001b[0m in \u001b[0;36m_do_run\u001b[0;34m(self, handle, target_list, fetch_list, feed_dict, options, run_metadata)\u001b[0m\n\u001b[1;32m    963\u001b[0m     \u001b[0;32mif\u001b[0m \u001b[0mhandle\u001b[0m \u001b[0;32mis\u001b[0m \u001b[0mNone\u001b[0m\u001b[0;34m:\u001b[0m\u001b[0;34m\u001b[0m\u001b[0m\n\u001b[1;32m    964\u001b[0m       return self._do_call(_run_fn, self._session, feed_dict, fetch_list,\n\u001b[0;32m--> 965\u001b[0;31m                            target_list, options, run_metadata)\n\u001b[0m\u001b[1;32m    966\u001b[0m     \u001b[0;32melse\u001b[0m\u001b[0;34m:\u001b[0m\u001b[0;34m\u001b[0m\u001b[0m\n\u001b[1;32m    967\u001b[0m       return self._do_call(_prun_fn, self._session, handle, feed_dict,\n",
      "\u001b[0;32m/home/gmd8si/tf/lib/python2.7/site-packages/tensorflow/python/client/session.pyc\u001b[0m in \u001b[0;36m_do_call\u001b[0;34m(self, fn, *args)\u001b[0m\n\u001b[1;32m    970\u001b[0m   \u001b[0;32mdef\u001b[0m \u001b[0m_do_call\u001b[0m\u001b[0;34m(\u001b[0m\u001b[0mself\u001b[0m\u001b[0;34m,\u001b[0m \u001b[0mfn\u001b[0m\u001b[0;34m,\u001b[0m \u001b[0;34m*\u001b[0m\u001b[0margs\u001b[0m\u001b[0;34m)\u001b[0m\u001b[0;34m:\u001b[0m\u001b[0;34m\u001b[0m\u001b[0m\n\u001b[1;32m    971\u001b[0m     \u001b[0;32mtry\u001b[0m\u001b[0;34m:\u001b[0m\u001b[0;34m\u001b[0m\u001b[0m\n\u001b[0;32m--> 972\u001b[0;31m       \u001b[0;32mreturn\u001b[0m \u001b[0mfn\u001b[0m\u001b[0;34m(\u001b[0m\u001b[0;34m*\u001b[0m\u001b[0margs\u001b[0m\u001b[0;34m)\u001b[0m\u001b[0;34m\u001b[0m\u001b[0m\n\u001b[0m\u001b[1;32m    973\u001b[0m     \u001b[0;32mexcept\u001b[0m \u001b[0merrors\u001b[0m\u001b[0;34m.\u001b[0m\u001b[0mOpError\u001b[0m \u001b[0;32mas\u001b[0m \u001b[0me\u001b[0m\u001b[0;34m:\u001b[0m\u001b[0;34m\u001b[0m\u001b[0m\n\u001b[1;32m    974\u001b[0m       \u001b[0mmessage\u001b[0m \u001b[0;34m=\u001b[0m \u001b[0mcompat\u001b[0m\u001b[0;34m.\u001b[0m\u001b[0mas_text\u001b[0m\u001b[0;34m(\u001b[0m\u001b[0me\u001b[0m\u001b[0;34m.\u001b[0m\u001b[0mmessage\u001b[0m\u001b[0;34m)\u001b[0m\u001b[0;34m\u001b[0m\u001b[0m\n",
      "\u001b[0;32m/home/gmd8si/tf/lib/python2.7/site-packages/tensorflow/python/client/session.pyc\u001b[0m in \u001b[0;36m_run_fn\u001b[0;34m(session, feed_dict, fetch_list, target_list, options, run_metadata)\u001b[0m\n\u001b[1;32m    952\u001b[0m         return tf_session.TF_Run(session, options,\n\u001b[1;32m    953\u001b[0m                                  \u001b[0mfeed_dict\u001b[0m\u001b[0;34m,\u001b[0m \u001b[0mfetch_list\u001b[0m\u001b[0;34m,\u001b[0m \u001b[0mtarget_list\u001b[0m\u001b[0;34m,\u001b[0m\u001b[0;34m\u001b[0m\u001b[0m\n\u001b[0;32m--> 954\u001b[0;31m                                  status, run_metadata)\n\u001b[0m\u001b[1;32m    955\u001b[0m \u001b[0;34m\u001b[0m\u001b[0m\n\u001b[1;32m    956\u001b[0m     \u001b[0;32mdef\u001b[0m \u001b[0m_prun_fn\u001b[0m\u001b[0;34m(\u001b[0m\u001b[0msession\u001b[0m\u001b[0;34m,\u001b[0m \u001b[0mhandle\u001b[0m\u001b[0;34m,\u001b[0m \u001b[0mfeed_dict\u001b[0m\u001b[0;34m,\u001b[0m \u001b[0mfetch_list\u001b[0m\u001b[0;34m)\u001b[0m\u001b[0;34m:\u001b[0m\u001b[0;34m\u001b[0m\u001b[0m\n",
      "\u001b[0;31mKeyboardInterrupt\u001b[0m: "
     ]
    }
   ],
   "source": [
    "with tf.Session() as sess:\n",
    "    coord = tf.train.Coordinator()\n",
    "    threads = tf.train.start_queue_runners(coord=coord)\n",
    "    count = 0\n",
    "    \n",
    "    try:\n",
    "        for i in range (100):\n",
    "            count = count + 1\n",
    "            print count\n",
    "            batch_x, batch_y = sess.run([train_image_batch, train_label_batch])\n",
    "            print batch_y.shape\n",
    "    #print a.shape\n",
    "    #la = sess.run(label, feed_dict={data_path:TRAINSET_PATH})  \n",
    "    except tf.errors.OutOfRangeError:\n",
    "        print ('Done Training -- epoch Limit reached')\n",
    "   \n",
    "    '''\n",
    "    try:\n",
    "        #while not coord.should_stop():\n",
    "        for i in range(100):\n",
    "            la = sess.run(train_label_batch, feed_dict={data_path:TRAINSET_PATH})  \n",
    "            print la.shape\n",
    "    except tf.errors.OutOfRangeError:\n",
    "        print ('Done Training -- epoch Limit reached')\n",
    "    finally:\n",
    "        coord.request_stop()\n",
    "        #lt.imshow(im)\n",
    "    '''"
   ]
  },
  {
   "cell_type": "code",
   "execution_count": 6,
   "metadata": {
    "collapsed": false
   },
   "outputs": [
    {
     "name": "stdout",
     "output_type": "stream",
     "text": [
      "(30,)\n"
     ]
    }
   ],
   "source": [
    "print batch_y.shape"
   ]
  },
  {
   "cell_type": "markdown",
   "metadata": {},
   "source": [
    "# Placeholders"
   ]
  },
  {
   "cell_type": "code",
   "execution_count": 3,
   "metadata": {
    "collapsed": true
   },
   "outputs": [],
   "source": [
    "learning_rate = tf.placeholder( tf.float32, [])\n",
    "images_tf = tf.placeholder( tf.float32, [None, 512, 512, 3], name=\"images\")\n",
    "labels_tf = tf.placeholder( tf.int32, [None], name='labels')  # the dimensions could be [None,N_CLASSES]"
   ]
  },
  {
   "cell_type": "code",
   "execution_count": 4,
   "metadata": {
    "collapsed": false
   },
   "outputs": [],
   "source": [
    "detector = Detector( N_LABELS)"
   ]
  },
  {
   "cell_type": "code",
   "execution_count": 5,
   "metadata": {
    "collapsed": false
   },
   "outputs": [],
   "source": [
    "p1,p2,p3,p4,conv5, conv6, gap, output = detector.inference(images_tf)\n",
    "loss_tf = tf.reduce_mean(tf.nn.sparse_softmax_cross_entropy_with_logits( output, labels_tf ))"
   ]
  },
  {
   "cell_type": "markdown",
   "metadata": {},
   "source": [
    "Below is something I dont reckon"
   ]
  },
  {
   "cell_type": "code",
   "execution_count": 6,
   "metadata": {
    "collapsed": true
   },
   "outputs": [],
   "source": [
    "weights_only = filter( lambda x: x.name.endswith('W:0'), tf.trainable_variables() )\n",
    "weight_decay = tf.reduce_sum(tf.pack([tf.nn.l2_loss(x) for x in weights_only])) * WEIGHT_DECAY_RATE\n",
    "loss_tf += weight_decay"
   ]
  },
  {
   "cell_type": "code",
   "execution_count": 7,
   "metadata": {
    "collapsed": true
   },
   "outputs": [],
   "source": [
    "# Saver Operation to save and restore all variables, first create directory\n",
    "ckpt_dir = \"./ckpt_dir\"\n",
    "if not os.path.exists(ckpt_dir):\n",
    "    os.makedirs(ckpt_dir)\n",
    "saver = tf.train.Saver(max_to_keep=50)   #Indicates max number of recent checkpoint files to keep"
   ]
  },
  {
   "cell_type": "code",
   "execution_count": 8,
   "metadata": {
    "collapsed": false
   },
   "outputs": [],
   "source": [
    "sess = tf.InteractiveSession()\n",
    "optimizer = tf.train.MomentumOptimizer( learning_rate, MOMENTUM)\n",
    "grads_and_vars = optimizer.compute_gradients( loss_tf )\n",
    "grads_and_vars = map(lambda gv: (gv[0], gv[1]) if ('conv6' in gv[1].name or 'GAP' in gv[1].name) else (gv[0]*0.1, gv[1]), grads_and_vars)\n",
    "#grads_and_vars = [(tf.clip_by_value(gv[0], -5., 5.), gv[1]) for gv in grads_and_vars]\n",
    "train_op = optimizer.apply_gradients( grads_and_vars )"
   ]
  },
  {
   "cell_type": "code",
   "execution_count": 9,
   "metadata": {
    "collapsed": true
   },
   "outputs": [],
   "source": [
    "tf.initialize_all_variables().run()"
   ]
  },
  {
   "cell_type": "code",
   "execution_count": 10,
   "metadata": {
    "collapsed": true
   },
   "outputs": [],
   "source": [
    "if PRETRAINED_MODEL_PATH:\n",
    "    print \"Pretrained\"\n",
    "    saver.restore(sess, PRETRAINED_MODEL_PATH)"
   ]
  },
  {
   "cell_type": "code",
   "execution_count": 11,
   "metadata": {
    "collapsed": true
   },
   "outputs": [],
   "source": [
    "# They use this testset index, no idea what is it for\n",
    "#testset.index  = range( len(testset) )"
   ]
  },
  {
   "cell_type": "code",
   "execution_count": 16,
   "metadata": {
    "collapsed": false
   },
   "outputs": [],
   "source": [
    "if not os.path.exists('./results'):\n",
    "    os.makedirs('./results')\n",
    "f_log = open('./results/DR_1_vggCAM.txt', 'w')\n",
    "\n",
    "iterations = 0\n",
    "loss_list = []"
   ]
  },
  {
   "cell_type": "code",
   "execution_count": 21,
   "metadata": {
    "collapsed": false
   },
   "outputs": [
    {
     "name": "stdout",
     "output_type": "stream",
     "text": [
      "0 60\n",
      "60 120\n",
      "120 180\n",
      "180 240\n",
      "240 300\n",
      "300 360\n",
      "360 420\n",
      "420 480\n",
      "480 540\n",
      "540 600\n"
     ]
    }
   ],
   "source": [
    "for start, end in zip(range(0, 660, 60), range(60, 660, 60)):\n",
    "    print start, end\n",
    "#print zip(range(0, 660, 60), range(60, 660, 60))"
   ]
  },
  {
   "cell_type": "code",
   "execution_count": null,
   "metadata": {
    "collapsed": true
   },
   "outputs": [],
   "source": [
    "\n",
    "\n",
    "for epoch in range(N_EPOCHS):\n",
    "    \n",
    "    #Simply setting trainset size\n",
    "    #trainset.index = range(len(trainset))\n",
    "    #trainset = trainset.ix[ np.random.permutation( len(trainset) )]\n",
    "\n",
    "    for start, end in zip(range( 0, len(trainset)+batch_size, batch_size), \n",
    "                          range(batch_size, len(trainset)+batch_size, batch_size)):\n",
    "\n",
    "        #current_data = trainset[start:end]                           # for 1st iteration it is trainset[0:60], so like defining 1st batch of batch_size\n",
    "        #current_image_paths = current_data['image_path'].values      # loading images from 1st batch \n",
    "        #current_images = np.array(map(lambda x: load_image(x), current_image_paths)) # loading images from 1st batch\n",
    "\n",
    "        #good_index = np.array(map(lambda x: x is not None, current_images)) #indexes of images\n",
    "\n",
    "        #current_data = current_data[good_index]  \n",
    "        #current_images = np.stack(current_images[good_index])    # Making Batch of images\n",
    "        #current_labels = current_data['label'].values            # Making batch of labels\n",
    "\n",
    "        _, loss_val, output_val = sess.run(\n",
    "                [train_op, loss_tf, output],\n",
    "                feed_dict={\n",
    "                    learning_rate: init_learning_rate,\n",
    "                    images_tf: current_images,\n",
    "                    labels_tf: current_labels\n",
    "                    })\n",
    "\n",
    "        loss_list.append(loss_val)                              # This must be for visualizing loss curve \n",
    "\n",
    "        iterations += 1\n",
    "        if iterations % 5 == 0:\n",
    "            print \"======================================\"\n",
    "            print \"Epoch\", epoch, \"Iteration\", iterations\n",
    "            print \"Processed\", start, '/', len(trainset)\n",
    "\n",
    "            label_predictions = output_val.argmax(axis=1)\n",
    "            acc = (label_predictions == current_labels).sum()\n",
    "\n",
    "            print \"Accuracy:\", acc, '/', len(current_labels)\n",
    "            print \"Accuracy Percentage:\", (acc/len(current_labels))*100\n",
    "            print \"Training Loss:\", np.mean(loss_list)\n",
    "            print \"\\n\"\n",
    "            loss_list = []\n",
    "\n",
    "    n_correct = 0\n",
    "    n_data = 0\n",
    "    for start, end in zip(range(0, len(testset)+batch_size, batch_size),\n",
    "                          range(batch_size, len(testset)+batch_size, batch_size)\n",
    "            ):\n",
    "        #current_data = testset[start:end]\n",
    "        #current_image_paths = current_data['image_path'].values\n",
    "        #current_images = np.array(map(lambda x: load_image(x), current_image_paths))\n",
    "\n",
    "        #good_index = np.array(map(lambda x: x is not None, current_images))\n",
    "\n",
    "        #current_data = current_data[good_index]\n",
    "        #current_images = np.stack(current_images[good_index])\n",
    "        #current_labels = current_data['label'].values\n",
    "\n",
    "        output_vals = sess.run(output, lfeed_dict={images_tf:current_images})\n",
    "\n",
    "        label_predictions = output_vals.argmax(axis=1)\n",
    "        acc = (label_predictions == current_labels).sum()\n",
    "\n",
    "        n_correct += acc\n",
    "        n_data += len(current_data)\n",
    "\n",
    "    acc_all = n_correct / float(n_data)\n",
    "    f_log.write('epoch:'+str(epoch)+'\\tacc:'+str(acc_all) + '\\n')\n",
    "    print \"$$$$$$$$$$$$$$$$$$$$$$$$$$$$$$$$$$$$$$$$$$$$$$$\"\n",
    "    print 'epoch:'+str(epoch)+'\\tacc:'+str(acc_all) + '\\n'\n",
    "    print \"$$$$$$$$$$$$$$$$$$$$$$$$$$$$$$$$$$$$$$$$$$$$$$$\"\n",
    "\n",
    "    saver.save( sess, os.path.join( model_path, 'model'), global_step=epoch)\n",
    "\n",
    "    init_learning_rate *= 0.99"
   ]
  }
 ],
 "metadata": {
  "kernelspec": {
   "display_name": "Python 2",
   "language": "python",
   "name": "python2"
  },
  "language_info": {
   "codemirror_mode": {
    "name": "ipython",
    "version": 2
   },
   "file_extension": ".py",
   "mimetype": "text/x-python",
   "name": "python",
   "nbconvert_exporter": "python",
   "pygments_lexer": "ipython2",
   "version": "2.7.11"
  }
 },
 "nbformat": 4,
 "nbformat_minor": 1
}
