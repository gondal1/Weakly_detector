{
 "cells": [
  {
   "cell_type": "code",
   "execution_count": 1,
   "metadata": {
    "collapsed": false
   },
   "outputs": [],
   "source": [
    "#====================================\n",
    "# Author: gmd8si\n",
    "# Date: 16, November, 2016\n",
    "#====================================\n",
    "\n",
    "import tensorflow as tf\n",
    "import numpy as np\n",
    "import pandas as pd\n",
    "\n",
    "from detector_dr import Detector\n",
    "from util import load_image           # Questionalable since we can use our own loading pipeline\n",
    "import os\n",
    "\n",
    "#================================================\n",
    "# Setting Hyper-Parameters \n",
    "#================================================\n",
    "\n",
    "#weight_path = '../data/caffe_layers_value.pickle'\n",
    "#model_path = '../models/caltech256/'\n",
    "PRETRAINED_MODEL_PATH= None #'../models/caltech256/model-0'\n",
    "N_EPOCHS = 10000\n",
    "INIT_LEARNING_RATE = 0.01\n",
    "WEIGHT_DECAY_RATE = 0.0005\n",
    "MOMENTUM = 0.9\n",
    "IMAGE_HEIGHT  = 512    #960\n",
    "IMAGE_WIDTH   = 512    #720\n",
    "NUM_CHANNELS  = 3\n",
    "BATCH_SIZE = 30\n",
    "N_LABELS = 5\n",
    "DROPOUT = 0.50  \n",
    "LOGS_PATH = './tensorflow_logs/new'\n",
    "WEIGHT_PATH = None\n",
    "TRAINSET_PATH = '/home/gmd8si/Weakly_detector/data/kaggle512_train10000.csv'\n",
    "TESTSET_PATH ='/home/gmd8si/Weakly_detector/data/kaggle512_test.csv'"
   ]
  },
  {
   "cell_type": "markdown",
   "metadata": {},
   "source": [
    "# Reading Data"
   ]
  },
  {
   "cell_type": "code",
   "execution_count": 2,
   "metadata": {
    "collapsed": true
   },
   "outputs": [],
   "source": [
    "#=======================================================================================================\n",
    "# Reading data from CSV FILE\n",
    "#=======================================================================================================\n",
    "\n",
    "# load csv content, reading labels and filepaths\n",
    "#csv_path = tf.train.string_input_producer(['/home/gmd8si/Weakly_detector/data/kaggle512_train.csv'])\n",
    "csv_path = tf.train.string_input_producer([TRAINSET_PATH])\n",
    "textReader = tf.TextLineReader()\n",
    "_, csv_content = textReader.read(csv_path)\n",
    "im_name, label = tf.decode_csv(csv_content, record_defaults=[[\"\"], [1]])\n",
    "\n",
    "# load images, and convert labels into one_hot encoded form\n",
    "# DO WE NEED HOT-ENCODED VECTORS\n",
    "\n",
    "im_content = tf.read_file(im_name)\n",
    "image = tf.image.decode_jpeg(im_content, channels=3)\n",
    "image = tf.cast(image, tf.float32) / 255. # could be unnecessary\n",
    "#size = tf.cast([256,256], tf.int32)\n",
    "#image = tf.image.resize_images(image, size)\n",
    "label = tf.one_hot(label, 5, 1, 0 )\n",
    "label = tf.cast(label, tf.float32 )"
   ]
  },
  {
   "cell_type": "markdown",
   "metadata": {},
   "source": [
    "# Placeholders"
   ]
  },
  {
   "cell_type": "code",
   "execution_count": 3,
   "metadata": {
    "collapsed": true
   },
   "outputs": [],
   "source": [
    "learning_rate = tf.placeholder( tf.float32, [])\n",
    "images_tf = tf.placeholder( tf.float32, [None, 512, 512, 3], name=\"images\")\n",
    "labels_tf = tf.placeholder( tf.int64, [None], name='labels')  # the dimensions could be [None,N_CLASSES]"
   ]
  },
  {
   "cell_type": "code",
   "execution_count": 4,
   "metadata": {
    "collapsed": false
   },
   "outputs": [],
   "source": [
    "detector = Detector( N_LABELS)"
   ]
  },
  {
   "cell_type": "code",
   "execution_count": 5,
   "metadata": {
    "collapsed": false
   },
   "outputs": [],
   "source": [
    "p1,p2,p3,p4,conv5, conv6, gap, output = detector.inference(images_tf)\n",
    "loss_tf = tf.reduce_mean(tf.nn.sparse_softmax_cross_entropy_with_logits( output, labels_tf ))"
   ]
  },
  {
   "cell_type": "markdown",
   "metadata": {},
   "source": [
    "Below is something I dont reckon"
   ]
  },
  {
   "cell_type": "code",
   "execution_count": 6,
   "metadata": {
    "collapsed": true
   },
   "outputs": [],
   "source": [
    "weights_only = filter( lambda x: x.name.endswith('W:0'), tf.trainable_variables() )\n",
    "weight_decay = tf.reduce_sum(tf.pack([tf.nn.l2_loss(x) for x in weights_only])) * WEIGHT_DECAY_RATE\n",
    "loss_tf += weight_decay"
   ]
  },
  {
   "cell_type": "code",
   "execution_count": 7,
   "metadata": {
    "collapsed": true
   },
   "outputs": [],
   "source": [
    "# Saver Operation to save and restore all variables, first create directory\n",
    "ckpt_dir = \"./ckpt_dir\"\n",
    "if not os.path.exists(ckpt_dir):\n",
    "    os.makedirs(ckpt_dir)\n",
    "saver = tf.train.Saver(max_to_keep=50)   #Indicates max number of recent checkpoint files to keep"
   ]
  },
  {
   "cell_type": "code",
   "execution_count": 8,
   "metadata": {
    "collapsed": false
   },
   "outputs": [],
   "source": [
    "sess = tf.InteractiveSession()\n",
    "optimizer = tf.train.MomentumOptimizer( learning_rate, MOMENTUM)\n",
    "grads_and_vars = optimizer.compute_gradients( loss_tf )\n",
    "grads_and_vars = map(lambda gv: (gv[0], gv[1]) if ('conv6' in gv[1].name or 'GAP' in gv[1].name) else (gv[0]*0.1, gv[1]), grads_and_vars)\n",
    "#grads_and_vars = [(tf.clip_by_value(gv[0], -5., 5.), gv[1]) for gv in grads_and_vars]\n",
    "train_op = optimizer.apply_gradients( grads_and_vars )"
   ]
  },
  {
   "cell_type": "code",
   "execution_count": 9,
   "metadata": {
    "collapsed": true
   },
   "outputs": [],
   "source": [
    "tf.initialize_all_variables().run()"
   ]
  },
  {
   "cell_type": "code",
   "execution_count": 10,
   "metadata": {
    "collapsed": true
   },
   "outputs": [],
   "source": [
    "if PRETRAINED_MODEL_PATH:\n",
    "    print \"Pretrained\"\n",
    "    saver.restore(sess, PRETRAINED_MODEL_PATH)"
   ]
  },
  {
   "cell_type": "code",
   "execution_count": 11,
   "metadata": {
    "collapsed": true
   },
   "outputs": [],
   "source": [
    "# They use this testset index, no idea what is it for\n",
    "#testset.index  = range( len(testset) )"
   ]
  },
  {
   "cell_type": "code",
   "execution_count": 16,
   "metadata": {
    "collapsed": false
   },
   "outputs": [],
   "source": [
    "if not os.path.exists('./results'):\n",
    "    os.makedirs('./results')\n",
    "f_log = open('./results/DR_1_vggCAM.txt', 'w')\n",
    "\n",
    "iterations = 0\n",
    "loss_list = []"
   ]
  },
  {
   "cell_type": "code",
   "execution_count": 21,
   "metadata": {
    "collapsed": false
   },
   "outputs": [
    {
     "name": "stdout",
     "output_type": "stream",
     "text": [
      "0 60\n",
      "60 120\n",
      "120 180\n",
      "180 240\n",
      "240 300\n",
      "300 360\n",
      "360 420\n",
      "420 480\n",
      "480 540\n",
      "540 600\n"
     ]
    }
   ],
   "source": [
    "for start, end in zip(range(0, 660, 60), range(60, 660, 60)):\n",
    "    print start, end\n",
    "#print zip(range(0, 660, 60), range(60, 660, 60))"
   ]
  },
  {
   "cell_type": "code",
   "execution_count": null,
   "metadata": {
    "collapsed": true
   },
   "outputs": [],
   "source": [
    "for epoch in range(N_EPOCHS):\n",
    "    \n",
    "    #Simply setting trainset size\n",
    "    #trainset.index = range(len(trainset))\n",
    "    #trainset = trainset.ix[ np.random.permutation( len(trainset) )]\n",
    "\n",
    "    for start, end in zip(range( 0, len(trainset)+batch_size, batch_size), \n",
    "                          range(batch_size, len(trainset)+batch_size, batch_size)):\n",
    "\n",
    "        #current_data = trainset[start:end]                           # for 1st iteration it is trainset[0:60], so like defining 1st batch of batch_size\n",
    "        #current_image_paths = current_data['image_path'].values      # loading images from 1st batch \n",
    "        #current_images = np.array(map(lambda x: load_image(x), current_image_paths)) # loading images from 1st batch\n",
    "\n",
    "        #good_index = np.array(map(lambda x: x is not None, current_images)) #indexes of images\n",
    "\n",
    "        #current_data = current_data[good_index]  \n",
    "        #current_images = np.stack(current_images[good_index])    # Making Batch of images\n",
    "        #current_labels = current_data['label'].values            # Making batch of labels\n",
    "\n",
    "        _, loss_val, output_val = sess.run(\n",
    "                [train_op, loss_tf, output],\n",
    "                feed_dict={\n",
    "                    learning_rate: init_learning_rate,\n",
    "                    images_tf: current_images,\n",
    "                    labels_tf: current_labels\n",
    "                    })\n",
    "\n",
    "        loss_list.append(loss_val)                              # This must be for visualizing loss curve \n",
    "\n",
    "        iterations += 1\n",
    "        if iterations % 5 == 0:\n",
    "            print \"======================================\"\n",
    "            print \"Epoch\", epoch, \"Iteration\", iterations\n",
    "            print \"Processed\", start, '/', len(trainset)\n",
    "\n",
    "            label_predictions = output_val.argmax(axis=1)\n",
    "            acc = (label_predictions == current_labels).sum()\n",
    "\n",
    "            print \"Accuracy:\", acc, '/', len(current_labels)\n",
    "            print \"Accuracy Percentage:\", (acc/len(current_labels))*100\n",
    "            print \"Training Loss:\", np.mean(loss_list)\n",
    "            print \"\\n\"\n",
    "            loss_list = []\n",
    "\n",
    "    n_correct = 0\n",
    "    n_data = 0\n",
    "    for start, end in zip(range(0, len(testset)+batch_size, batch_size),\n",
    "                          range(batch_size, len(testset)+batch_size, batch_size)\n",
    "            ):\n",
    "        #current_data = testset[start:end]\n",
    "        #current_image_paths = current_data['image_path'].values\n",
    "        #current_images = np.array(map(lambda x: load_image(x), current_image_paths))\n",
    "\n",
    "        #good_index = np.array(map(lambda x: x is not None, current_images))\n",
    "\n",
    "        #current_data = current_data[good_index]\n",
    "        #current_images = np.stack(current_images[good_index])\n",
    "        #current_labels = current_data['label'].values\n",
    "\n",
    "        output_vals = sess.run(output, lfeed_dict={images_tf:current_images})\n",
    "\n",
    "        label_predictions = output_vals.argmax(axis=1)\n",
    "        acc = (label_predictions == current_labels).sum()\n",
    "\n",
    "        n_correct += acc\n",
    "        n_data += len(current_data)\n",
    "\n",
    "    acc_all = n_correct / float(n_data)\n",
    "    f_log.write('epoch:'+str(epoch)+'\\tacc:'+str(acc_all) + '\\n')\n",
    "    print \"$$$$$$$$$$$$$$$$$$$$$$$$$$$$$$$$$$$$$$$$$$$$$$$\"\n",
    "    print 'epoch:'+str(epoch)+'\\tacc:'+str(acc_all) + '\\n'\n",
    "    print \"$$$$$$$$$$$$$$$$$$$$$$$$$$$$$$$$$$$$$$$$$$$$$$$\"\n",
    "\n",
    "    saver.save( sess, os.path.join( model_path, 'model'), global_step=epoch)\n",
    "\n",
    "    init_learning_rate *= 0.99"
   ]
  }
 ],
 "metadata": {
  "kernelspec": {
   "display_name": "Python 2",
   "language": "python",
   "name": "python2"
  },
  "language_info": {
   "codemirror_mode": {
    "name": "ipython",
    "version": 2
   },
   "file_extension": ".py",
   "mimetype": "text/x-python",
   "name": "python",
   "nbconvert_exporter": "python",
   "pygments_lexer": "ipython2",
   "version": "2.7.11"
  }
 },
 "nbformat": 4,
 "nbformat_minor": 1
}
